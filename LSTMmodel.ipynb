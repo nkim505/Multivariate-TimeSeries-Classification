{
  "nbformat": 4,
  "nbformat_minor": 0,
  "metadata": {
    "colab": {
      "name": "pj_sequencemodel.ipynb",
      "provenance": [],
      "machine_shape": "hm",
      "collapsed_sections": [
        "AdZu2Y7n2hRb"
      ]
    },
    "kernelspec": {
      "name": "python3",
      "display_name": "Python 3"
    },
    "language_info": {
      "name": "python"
    },
    "accelerator": "TPU"
  },
  "cells": [
    {
      "cell_type": "markdown",
      "source": [
        "# Import libraries"
      ],
      "metadata": {
        "id": "ToRKKbjU5ojM"
      }
    },
    {
      "cell_type": "code",
      "execution_count": null,
      "metadata": {
        "id": "ti0c9n943rXi"
      },
      "outputs": [],
      "source": [
        "import os\n",
        "from os import path, getcwd, chdir\n",
        "import random\n",
        "import numpy as np\n",
        "import pandas as pd\n",
        "import matplotlib.pyplot as plt\n",
        "from sklearn.model_selection import train_test_split\n",
        "import tensorflow as tf\n",
        "from tensorflow import keras\n",
        "\n",
        "print(tf.__version__)"
      ]
    },
    {
      "cell_type": "code",
      "source": [
        "def plot_series(time, series, format=\"-\", start = 0, end = None):\n",
        "  plt.plot(time[start:end], series[start:end], format)\n",
        "  plt.xlabel(\"time\")\n",
        "  plt.ylabel(\"value\")\n",
        "  plt.grid(True)"
      ],
      "metadata": {
        "id": "28nvgWA755ro"
      },
      "execution_count": null,
      "outputs": []
    },
    {
      "cell_type": "markdown",
      "source": [
        "# Data\n",
        "## Looking into raw datasets"
      ],
      "metadata": {
        "id": "cAPvQ1Ll5jAZ"
      }
    },
    {
      "cell_type": "code",
      "source": [
        "file_path = '/content/drive/MyDrive/motion_dataset/'\n",
        "train_path = file_path + 'train_dataset/'\n",
        "test_path = file_path + 'test_dataset/'"
      ],
      "metadata": {
        "id": "APi6zWB7JV5x"
      },
      "execution_count": null,
      "outputs": []
    },
    {
      "cell_type": "code",
      "source": [
        "data_list = ['accx', 'accy', 'accz', 'gyrox', 'gyroy', 'gyroz']\n",
        "# accx-> type(accx) : numpy.ndarray\n",
        "accx = np.loadtxt(train_path+'acc_X.txt')\n",
        "accy = np.loadtxt(train_path+'acc_Y.txt')\n",
        "accz = np.loadtxt(train_path+'acc_Z.txt')\n",
        "gyrox = np.loadtxt(train_path+'gyro_X.txt')\n",
        "gyroy = np.loadtxt(train_path+'gyro_Y.txt')\n",
        "gyroz = np.loadtxt(train_path+'gyro_Z.txt')\n",
        "answers = np.loadtxt(train_path+'Answer.txt')"
      ],
      "metadata": {
        "id": "BCBZeMSc5heP"
      },
      "execution_count": null,
      "outputs": []
    },
    {
      "cell_type": "code",
      "source": [
        "# 나중에 [getattr(x, 'flatten')() for x in numpy_lists] OR map(np.ravel, [data list])\n",
        "\n",
        "print(accx.shape)\n",
        "print(accy.shape)\n",
        "print(accz.shape)\n",
        "print(gyrox.shape)\n",
        "print(gyroy.shape)\n",
        "print(gyroz.shape)\n",
        "\n",
        "my_data = [accx, accy, accz, gyrox, gyroy, gyroz]"
      ],
      "metadata": {
        "id": "4fp265VaL3Jq"
      },
      "execution_count": null,
      "outputs": []
    },
    {
      "cell_type": "code",
      "source": [
        "prop = 0.7\n",
        "train_prop=int(accx.shape[0]*prop)\n",
        "print('The number of train data :' , train_prop)\n",
        "print('The number of test data :', accx.shape[0]-train_prop)\n",
        "len_train = train_prop"
      ],
      "metadata": {
        "id": "3_rPwaxcPlsW"
      },
      "execution_count": null,
      "outputs": []
    },
    {
      "cell_type": "code",
      "source": [
        "# 하나의 배열로 합치고 (n,6) 모양으로 정리하기 = dataset\n",
        "my_data=map(np.ravel, my_data)\n",
        "print(f\"the original my_data didnt change. the shape of accx : {accx.shape}\")\n",
        "dataset = np.column_stack(my_data)\n",
        "print(dataset)\n",
        "print(dataset.shape)"
      ],
      "metadata": {
        "id": "xA7f9jrbE9aN"
      },
      "execution_count": null,
      "outputs": []
    },
    {
      "cell_type": "code",
      "source": [
        "dataset = dataset.reshape((18516,200,6))\n",
        "print(dataset.shape)"
      ],
      "metadata": {
        "id": "8XLVsaqwMJm-"
      },
      "execution_count": null,
      "outputs": []
    },
    {
      "cell_type": "markdown",
      "source": [
        "### 참고: list들을 일괄적으로 처리하기 : np.ravel, getattr(x, 'method')() for x in datalist "
      ],
      "metadata": {
        "id": "AdZu2Y7n2hRb"
      }
    },
    {
      "cell_type": "markdown",
      "source": [
        "\n",
        "* 1. 안녕하세요님 \n",
        "![np_ravel_map.png](data:image/png;base64,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)\n",
        "* 2. 라면먹는제이지님"
      ],
      "metadata": {
        "id": "X75aq6T626d8"
      }
    },
    {
      "cell_type": "code",
      "source": [
        "# getattr(x, 'method')() 사용하기\n",
        "getattr(x, 'flatten')() for x in my_data\n",
        "print([x.shape for x in my_data])\n",
        "\n",
        "# 라면먹는 제이지님 샘플\n",
        "class MyDataStructures(): \n",
        "        \n",
        "    import numpy as np \n",
        " \n",
        "    def __init__(self, data): \n",
        "        if isinstance(data, np.ndarray): \n",
        "            self.data = data \n",
        "        else: \n",
        "            self.data = np.array(data) \n",
        "     \n",
        "    def flatten(self): \n",
        "        return self.data.flatten() \n",
        "     \n",
        "    def reverse_flatten(self): \n",
        "        return self.flatten()[::-1] \n",
        "     \n",
        " \n",
        "a = [[1,2], [3,4]] \n",
        "b = [[5,6], [7,8]] \n",
        "c = [[9,10], [11,12]] \n",
        "d = [[13,14], [15,16]] \n",
        " \n",
        "my_data = [MyDataStructures(a),  \n",
        "           MyDataStructures(b),  \n",
        "           MyDataStructures(c),  \n",
        "           MyDataStructures(d)] \n",
        " \n",
        "for method in ['flatten', 'reverse_flatten']: \n",
        "    print(f'{method} 처리결과 : ') \n",
        "    print([getattr(x, method)() for x in my_data])"
      ],
      "metadata": {
        "id": "uoIY3NFH1XR5"
      },
      "execution_count": null,
      "outputs": []
    },
    {
      "cell_type": "markdown",
      "source": [
        "## Spliting Train set & Test Set \n",
        "\n"
      ],
      "metadata": {
        "id": "lzPvoGIvotch"
      }
    },
    {
      "cell_type": "code",
      "source": [
        "print(answers, answers.shape)\n",
        "answers= answers.astype(int)\n",
        "answers=answers.reshape((18516,1))"
      ],
      "metadata": {
        "id": "gALxuFh2Qb5e"
      },
      "execution_count": null,
      "outputs": []
    },
    {
      "cell_type": "code",
      "source": [
        "# using sklearn.model_selection\n",
        "trainx, testx, trainy, testy = train_test_split(dataset,\n",
        "                                                answers,\n",
        "                                                test_size=0.3,\n",
        "                                                shuffle = True,\n",
        "                                                random_state = 1004)\n",
        "\n",
        "print('X_train shape:', trainx.shape)\n",
        "print('X_test shape:', testx.shape)\n",
        "print('y_train shape:', trainy.shape)\n",
        "print('y_test shape:', testy.shape)"
      ],
      "metadata": {
        "id": "nuDnpU5PCu6I"
      },
      "execution_count": null,
      "outputs": []
    },
    {
      "cell_type": "markdown",
      "source": [
        "# Model"
      ],
      "metadata": {
        "id": "RkmcPVuT5sjE"
      }
    },
    {
      "cell_type": "code",
      "source": [
        "def train_motion(trainx, trainy):\n",
        "\n",
        "  class myCallback(tf.keras.callbacks.Callback):\n",
        "    def on_epoch_end(self, epoch, logs={}):\n",
        "      if logs.get('acc') > 0.950:\n",
        "        print(\"\\nReached 95.0% accuracy so canceling training.\")\n",
        "\n",
        "  callbacks = myCallback()\n",
        "\n",
        "  model = tf.keras.models.Sequential([\n",
        "      tf.keras.layers.Bidirectional(tf.keras.layers.LSTM(units= 200, return_sequences = True), input_shape = (200,6)),\n",
        "      tf.keras.layers.Bidirectional(tf.keras.layers.LSTM(units= 200, return_sequences = False)),\n",
        "      tf.keras.layers.BatchNormalization(),\n",
        "      tf.keras.layers.Dropout(0.2),\n",
        "      tf.keras.layers.Dense(64),\n",
        "      tf.keras.layers.Dense(1, activation = 'softmax')\n",
        "  ])\n",
        "\n",
        "  model.compile(optimizer=tf.keras.optimizers.Adam(learning_rate=0.001), loss='categorical_crossentropy', metrics =['acc'])\n",
        "  history = model.fit(trainx, trainy,\n",
        "                      #validation_data = (testx, testy),\n",
        "                      epochs = 10,\n",
        "                      callbacks=[callbacks])\n",
        "  return history.epoch, history.history['acc'][-1]"
      ],
      "metadata": {
        "id": "dj2B8UZi5xqN"
      },
      "execution_count": null,
      "outputs": []
    },
    {
      "cell_type": "code",
      "source": [
        "trainx.shape"
      ],
      "metadata": {
        "id": "elU2hx1NSsm0"
      },
      "execution_count": null,
      "outputs": []
    },
    {
      "cell_type": "code",
      "source": [
        "train_motion(trainx, trainy)"
      ],
      "metadata": {
        "id": "K2z7nNjGKyb3"
      },
      "execution_count": null,
      "outputs": []
    },
    {
      "cell_type": "code",
      "source": [
        "model.evaluate(testx, testy)"
      ],
      "metadata": {
        "id": "gHcy-oIdLdqq"
      },
      "execution_count": null,
      "outputs": []
    },
    {
      "cell_type": "code",
      "source": [
        "tf.keras.backend.clear_session()"
      ],
      "metadata": {
        "id": "J7yiey2NBk4k"
      },
      "execution_count": null,
      "outputs": []
    }
  ]
}
