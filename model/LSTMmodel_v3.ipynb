{
  "nbformat": 4,
  "nbformat_minor": 0,
  "metadata": {
    "colab": {
      "name": "pj_sequencemodel_v2.ipynb",
      "provenance": [],
      "machine_shape": "hm",
      "collapsed_sections": []
    },
    "kernelspec": {
      "name": "python3",
      "display_name": "Python 3"
    },
    "language_info": {
      "name": "python"
    },
    "accelerator": "TPU"
  },
  "cells": [
    {
      "cell_type": "markdown",
      "source": [
        "# Import libraries"
      ],
      "metadata": {
        "id": "ToRKKbjU5ojM"
      }
    },
    {
      "cell_type": "code",
      "execution_count": 2,
      "metadata": {
        "id": "ti0c9n943rXi",
        "colab": {
          "base_uri": "https://localhost:8080/"
        },
        "outputId": "4593fb48-4784-418c-d45f-899f28247499"
      },
      "outputs": [
        {
          "output_type": "stream",
          "name": "stdout",
          "text": [
            "2.7.0\n"
          ]
        }
      ],
      "source": [
        "import os\n",
        "from os import path, getcwd, chdir\n",
        "import random\n",
        "import numpy as np\n",
        "import pandas as pd\n",
        "import matplotlib.pyplot as plt\n",
        "from sklearn.model_selection import train_test_split\n",
        "import tensorflow as tf\n",
        "from tensorflow import keras\n",
        "from tensorflow.keras import Model\n",
        "\n",
        "print(tf.__version__)"
      ]
    },
    {
      "cell_type": "code",
      "source": [
        "def plot_series(time, series, format=\"-\", start = 0, end = None):\n",
        "  plt.plot(time[start:end], series[start:end], format)\n",
        "  plt.xlabel(\"time\")\n",
        "  plt.ylabel(\"value\")\n",
        "  plt.grid(True)"
      ],
      "metadata": {
        "id": "28nvgWA755ro"
      },
      "execution_count": 3,
      "outputs": []
    },
    {
      "cell_type": "markdown",
      "source": [
        "# Data\n",
        "## Open and reshape raw datasets"
      ],
      "metadata": {
        "id": "cAPvQ1Ll5jAZ"
      }
    },
    {
      "cell_type": "code",
      "source": [
        "file_path = '/content/drive/MyDrive/motion_dataset/'\n",
        "train_path = file_path + 'train_dataset/'"
      ],
      "metadata": {
        "id": "APi6zWB7JV5x"
      },
      "execution_count": 4,
      "outputs": []
    },
    {
      "cell_type": "code",
      "source": [
        "dataset = np.loadtxt(train_path+'dataset_withlabels.txt')\n",
        "print(dataset.shape)"
      ],
      "metadata": {
        "id": "BCBZeMSc5heP",
        "colab": {
          "base_uri": "https://localhost:8080/"
        },
        "outputId": "586ee1ca-8709-4650-c2e6-1f611bfc5d9a"
      },
      "execution_count": 5,
      "outputs": [
        {
          "output_type": "stream",
          "name": "stdout",
          "text": [
            "(3718058, 7)\n"
          ]
        }
      ]
    },
    {
      "cell_type": "code",
      "source": [
        "dataset.shape[0]"
      ],
      "metadata": {
        "colab": {
          "base_uri": "https://localhost:8080/"
        },
        "id": "R6J9IgUl-_CK",
        "outputId": "ec597194-39f8-4fd7-fabe-6ac200ba4365"
      },
      "execution_count": 6,
      "outputs": [
        {
          "output_type": "execute_result",
          "data": {
            "text/plain": [
              "3718058"
            ]
          },
          "metadata": {},
          "execution_count": 6
        }
      ]
    },
    {
      "cell_type": "code",
      "source": [
        "# drop some values from dataset to reshape them properly by using indexing\n",
        "org_size = dataset.shape[0]\n",
        "new_size = 200\n",
        "reshape_dataset = dataset[(org_size%new_size):, :].reshape((-1,200,7)) #뒤에서 데이터를 자르면 앉기 데이터가 상당 부분 소실되어서, 앞에서 crop함. \n",
        "print(reshape_dataset.shape)"
      ],
      "metadata": {
        "id": "8XLVsaqwMJm-",
        "colab": {
          "base_uri": "https://localhost:8080/"
        },
        "outputId": "d3b69267-dd8e-4e1c-da2f-b9d51b0c363d"
      },
      "execution_count": 7,
      "outputs": [
        {
          "output_type": "stream",
          "name": "stdout",
          "text": [
            "(18590, 200, 7)\n"
          ]
        }
      ]
    },
    {
      "cell_type": "markdown",
      "source": [
        "## Spliting Train set & Test Set \n",
        "\n"
      ],
      "metadata": {
        "id": "lzPvoGIvotch"
      }
    },
    {
      "cell_type": "code",
      "source": [
        "# using sklearn.model_selection\n",
        "trainx, testx, trainy, testy = train_test_split(reshape_dataset[:,:,0:6], # x 0~5\n",
        "                                                reshape_dataset[:,:,6], # y 6\n",
        "                                                test_size=0.3,\n",
        "                                                shuffle = True,\n",
        "                                                random_state = 1004)\n",
        "\n",
        "print('trainx shape:', trainx.shape)\n",
        "print('testx shape:', testx.shape)\n",
        "print('trainy shape:', trainy.shape)\n",
        "print('testy shape:', testy.shape)"
      ],
      "metadata": {
        "id": "nuDnpU5PCu6I",
        "colab": {
          "base_uri": "https://localhost:8080/"
        },
        "outputId": "495e1056-20ed-49b9-8edb-e23290c6069b"
      },
      "execution_count": 8,
      "outputs": [
        {
          "output_type": "stream",
          "name": "stdout",
          "text": [
            "trainx shape: (13013, 200, 6)\n",
            "testx shape: (5577, 200, 6)\n",
            "trainy shape: (13013, 200)\n",
            "testy shape: (5577, 200)\n"
          ]
        }
      ]
    },
    {
      "cell_type": "code",
      "source": [
        "# reshape trainy and testy from (n, 200) to (n, 1) = indexing and .reshape((n,1)).astype(int)\n",
        "# to remain the only label per one motion (200*5)\n",
        "trainy = trainy[:, 0].reshape((trainy.shape[0],1)).astype(int)\n",
        "testy = testy[:, 0].reshape((testy.shape[0],1)).astype(int)\n",
        "print('trainy shape:', trainy.shape)\n",
        "print('testy shape:', testy.shape)\n",
        "print(trainy)\n",
        "print(testy)\n",
        "\n",
        "# change the label value 1,2,3,4 -> 0,1,2,3\n",
        "\n",
        "trainy = trainy -1\n",
        "testy = testy - 1\n",
        "# check again the unique values in testy and trainy set\n",
        "print(np.unique(trainy))\n",
        "print(np.unique(testy))"
      ],
      "metadata": {
        "id": "u5UjVQyL1BNN",
        "colab": {
          "base_uri": "https://localhost:8080/"
        },
        "outputId": "51756e78-15e8-4da1-d12d-06a1ccb29906"
      },
      "execution_count": 9,
      "outputs": [
        {
          "output_type": "stream",
          "name": "stdout",
          "text": [
            "trainy shape: (13013, 1)\n",
            "testy shape: (5577, 1)\n",
            "[[1]\n",
            " [1]\n",
            " [3]\n",
            " ...\n",
            " [3]\n",
            " [1]\n",
            " [3]]\n",
            "[[1]\n",
            " [1]\n",
            " [1]\n",
            " ...\n",
            " [2]\n",
            " [2]\n",
            " [1]]\n",
            "[0 1 2 3]\n",
            "[0 1 2 3]\n"
          ]
        }
      ]
    },
    {
      "cell_type": "code",
      "source": [
        "# trainy = to_categorical(trainy, 4)\n",
        "# testy = to_categorical(testy, 4)"
      ],
      "metadata": {
        "id": "0TZZ5dJF8im-"
      },
      "execution_count": null,
      "outputs": []
    },
    {
      "cell_type": "markdown",
      "source": [
        "# Model"
      ],
      "metadata": {
        "id": "RkmcPVuT5sjE"
      }
    },
    {
      "cell_type": "code",
      "source": [
        "def train_motion(trainx, trainy, testx, testy):\n",
        "\n",
        "  class myCallback(tf.keras.callbacks.Callback):\n",
        "    def on_epoch_end(self, epoch, logs={}):\n",
        "      if logs.get('acc') > 0.990:\n",
        "        print(\"\\nReached 99.0% accuracy so canceling training.\")\n",
        "\n",
        "  callbacks = myCallback()\n",
        "\n",
        "  model = tf.keras.models.Sequential([\n",
        "      tf.keras.layers.LSTM(units = 200, input_shape = (200,6), return_sequences = False),\n",
        "      tf.keras.layers.BatchNormalization(),\n",
        "      tf.keras.layers.Dropout(0.2),\n",
        "      tf.keras.layers.Dense(4, activation = 'softmax')\n",
        "  ])\n",
        "  model.compile(optimizer=tf.keras.optimizers.Adam(learning_rate=0.001), loss='sparse_categorical_crossentropy', metrics =['acc'])\n",
        "  history = model.fit(trainx, trainy,\n",
        "                      validation_data = (testx, testy),\n",
        "                      epochs = 10,\n",
        "                      callbacks=[callbacks])\n",
        "  \n",
        "  acc = history.history['acc']\n",
        "  loss = history.history['loss']\n",
        "  val_acc = history.history['val_acc']\n",
        "  val_loss = history.history['val_loss']\n",
        "  # history.epoch, history.history['acc'][-1]\n",
        "  return model.summary, acc, loss, val_acc, val_loss"
      ],
      "metadata": {
        "id": "dj2B8UZi5xqN"
      },
      "execution_count": 15,
      "outputs": []
    },
    {
      "cell_type": "code",
      "source": [
        "#model1 = train_motion(trainx, trainy, testx, testy)\n",
        "model2 = train_motion(trainx, trainy, testx, testy)\n"
      ],
      "metadata": {
        "id": "K2z7nNjGKyb3",
        "colab": {
          "base_uri": "https://localhost:8080/"
        },
        "outputId": "fc1a0850-8527-4c69-dad9-848e914338b6"
      },
      "execution_count": 16,
      "outputs": [
        {
          "output_type": "stream",
          "name": "stdout",
          "text": [
            "Epoch 1/10\n",
            "407/407 [==============================] - 202s 491ms/step - loss: 0.3601 - acc: 0.9177 - val_loss: 0.1435 - val_acc: 0.9631\n",
            "Epoch 2/10\n",
            "407/407 [==============================] - 198s 487ms/step - loss: 0.1661 - acc: 0.9520 - val_loss: 0.1214 - val_acc: 0.9686\n",
            "Epoch 3/10\n",
            "407/407 [==============================] - 202s 498ms/step - loss: 0.1283 - acc: 0.9614 - val_loss: 0.1203 - val_acc: 0.9666\n",
            "Epoch 4/10\n",
            "407/407 [==============================] - 201s 494ms/step - loss: 0.1194 - acc: 0.9647 - val_loss: 0.1062 - val_acc: 0.9686\n",
            "Epoch 5/10\n",
            "407/407 [==============================] - 196s 481ms/step - loss: 0.1109 - acc: 0.9674 - val_loss: 0.1013 - val_acc: 0.9686\n",
            "Epoch 6/10\n",
            "407/407 [==============================] - 194s 477ms/step - loss: 0.1032 - acc: 0.9684 - val_loss: 0.0925 - val_acc: 0.9738\n",
            "Epoch 7/10\n",
            "407/407 [==============================] - 198s 486ms/step - loss: 0.0818 - acc: 0.9740 - val_loss: 0.0883 - val_acc: 0.9740\n",
            "Epoch 8/10\n",
            "407/407 [==============================] - 203s 499ms/step - loss: 0.0903 - acc: 0.9721 - val_loss: 0.1035 - val_acc: 0.9663\n",
            "Epoch 9/10\n",
            "407/407 [==============================] - 202s 496ms/step - loss: 0.0866 - acc: 0.9716 - val_loss: 0.0817 - val_acc: 0.9769\n",
            "Epoch 10/10\n",
            "407/407 [==============================] - 199s 489ms/step - loss: 0.0698 - acc: 0.9775 - val_loss: 0.0994 - val_acc: 0.9720\n"
          ]
        }
      ]
    },
    {
      "cell_type": "code",
      "source": [
        "model2[0]()"
      ],
      "metadata": {
        "colab": {
          "base_uri": "https://localhost:8080/"
        },
        "id": "E27SYH2xPg6q",
        "outputId": "524e05df-67e2-4300-ca0b-c060a5316774"
      },
      "execution_count": 17,
      "outputs": [
        {
          "output_type": "stream",
          "name": "stdout",
          "text": [
            "Model: \"sequential_1\"\n",
            "_________________________________________________________________\n",
            " Layer (type)                Output Shape              Param #   \n",
            "=================================================================\n",
            " lstm_1 (LSTM)               (None, 200)               165600    \n",
            "                                                                 \n",
            " batch_normalization_1 (Batc  (None, 200)              800       \n",
            " hNormalization)                                                 \n",
            "                                                                 \n",
            " dropout_1 (Dropout)         (None, 200)               0         \n",
            "                                                                 \n",
            " dense_1 (Dense)             (None, 4)                 804       \n",
            "                                                                 \n",
            "=================================================================\n",
            "Total params: 167,204\n",
            "Trainable params: 166,804\n",
            "Non-trainable params: 400\n",
            "_________________________________________________________________\n"
          ]
        }
      ]
    },
    {
      "cell_type": "code",
      "source": [
        "acc = model2[1]\n",
        "loss = model2[2]\n",
        "val_acc = model2[3]\n",
        "val_loss = model2[4]\n",
        "\n",
        "# 학습과정 시각화\n",
        "epochs = range(1, len(acc) + 1)\n",
        "\n",
        "plt.plot(epochs, acc, 'b', label='Training acc')\n",
        "plt.plot(epochs, val_acc, 'g', label='Validation acc')\n",
        "plt.title('Training and validation accuracy')\n",
        "plt.legend()\n",
        "\n",
        "plt.figure()\n",
        "\n",
        "plt.plot(epochs, loss, 'y', label='Training loss')\n",
        "plt.plot(epochs, val_loss, 'r', label='Validation loss')\n",
        "plt.title('Training and validation loss')\n",
        "plt.legend()\n",
        "\n",
        "plt.show()"
      ],
      "metadata": {
        "colab": {
          "base_uri": "https://localhost:8080/",
          "height": 545
        },
        "id": "G8WM81dhAsjt",
        "outputId": "629fc205-18eb-46eb-e17e-e72aa226d09c"
      },
      "execution_count": 18,
      "outputs": [
        {
          "output_type": "display_data",
          "data": {
            "image/png": "[encoded data removed]",
            "text/plain": [
              "<Figure size 432x288 with 1 Axes>"
            ]
          },
          "metadata": {
            "needs_background": "light"
          }
        },
        {
          "output_type": "display_data",
          "data": {
            "image/png": "[encoded data removed]",
            "text/plain": [
              "<Figure size 432x288 with 1 Axes>"
            ]
          },
          "metadata": {
            "needs_background": "light"
          }
        }
      ]
    },
    {
      "cell_type": "code",
      "source": [
        "tf.keras.backend.clear_session()"
      ],
      "metadata": {
        "id": "J7yiey2NBk4k"
      },
      "execution_count": null,
      "outputs": []
    }
  ]
}
