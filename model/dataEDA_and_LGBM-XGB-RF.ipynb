{
  "nbformat": 4,
  "nbformat_minor": 0,
  "metadata": {
    "colab": {
      "name": "pj_sequencemodel_xgboost.ipynb",
      "provenance": [],
      "collapsed_sections": []
    },
    "kernelspec": {
      "name": "python3",
      "display_name": "Python 3"
    },
    "language_info": {
      "name": "python"
    }
  },
  "cells": [
    {
      "cell_type": "markdown",
      "source": [
        "# Import libraries"
      ],
      "metadata": {
        "id": "rIu-QjgVXaKT"
      }
    },
    {
      "cell_type": "code",
      "execution_count": 1,
      "metadata": {
        "id": "t4dGVaof5mBo"
      },
      "outputs": [],
      "source": [
        "from sqlalchemy import create_engine\n",
        "import pandas as pd\n",
        "import os, sys\n",
        "import matplotlib.pyplot as plt\n",
        "import seaborn as sns\n",
        "import numpy as np\n",
        "from numpy import loadtxt\n",
        "import warnings\n",
        "import sklearn\n",
        "import matplotlib.pyplot as plt\n",
        "from xgboost import XGBRegressor\n",
        "from sklearn.model_selection import train_test_split\n",
        "from sklearn.ensemble import RandomForestRegressor\n",
        "from lightgbm import LGBMRegressor\n",
        "from sklearn.metrics import mean_squared_error\n",
        "from sklearn.model_selection import RandomizedSearchCV\n",
        "import datetime\n",
        "from sklearn.metrics import accuracy_score\n",
        "\n",
        "# 머신러닝 모델 저장\n",
        "import pickle\n",
        "import joblib\n",
        "# from sklearn.externals import joblib\n",
        "\n",
        "import sqlalchemy\n",
        "from sqlalchemy import (create_engine, MetaData, Table, Column, Integer, String, DateTime)\n",
        "\n",
        "from sqlalchemy import create_engine\n",
        "from sqlalchemy.ext.declarative import declarative_base\n",
        "from sqlalchemy.orm import sessionmaker\n",
        "from sqlalchemy.orm import Session\n",
        "\n",
        "from datetime import datetime\n",
        "\n",
        "warnings.filterwarnings('ignore')"
      ]
    },
    {
      "cell_type": "code",
      "source": [
        "sns.set(font=\"Malgun Gothic\",\n",
        "        rc={\"axes.unicode_minus\":False},\n",
        "        style=\"whitegrid\")\n",
        "# 폰트가 선명하게 보이기 위해\n",
        "from IPython.display import set_matplotlib_formats\n",
        "set_matplotlib_formats(\"retina\")"
      ],
      "metadata": {
        "id": "YybWDv21Oymi"
      },
      "execution_count": null,
      "outputs": []
    },
    {
      "cell_type": "markdown",
      "source": [
        "# Load Data"
      ],
      "metadata": {
        "id": "-FVOnD4fXdWT"
      }
    },
    {
      "cell_type": "code",
      "source": [
        "file_path = '/content/drive/MyDrive/motion_dataset/'\n",
        "train_path = file_path + 'train_dataset/'\n",
        "test_path = file_path + 'test_dataset/'"
      ],
      "metadata": {
        "id": "BeNtVypmXgjS"
      },
      "execution_count": null,
      "outputs": []
    },
    {
      "cell_type": "code",
      "source": [
        "# accx-> type(accx) : numpy.ndarray\n",
        "accx = np.loadtxt(train_path+'acc_X.txt')\n",
        "accy = np.loadtxt(train_path+'acc_Y.txt')\n",
        "accz = np.loadtxt(train_path+'acc_Z.txt')\n",
        "gyrox = np.loadtxt(train_path+'gyro_X.txt')\n",
        "gyroy = np.loadtxt(train_path+'gyro_Y.txt')\n",
        "gyroz = np.loadtxt(train_path+'gyro_Z.txt')\n",
        "answers = np.loadtxt(train_path+'Answer.txt')"
      ],
      "metadata": {
        "id": "Kh8Q2kydXwIv"
      },
      "execution_count": null,
      "outputs": []
    },
    {
      "cell_type": "code",
      "source": [
        "my_data_names= ['accx', 'accy', 'accz', 'gyrox', 'gyroy', 'gyroz']"
      ],
      "metadata": {
        "id": "GAhm9OrEWyfY"
      },
      "execution_count": null,
      "outputs": []
    },
    {
      "cell_type": "code",
      "source": [
        "my_data = [accx, accy, accz, gyrox, gyroy, gyroz]"
      ],
      "metadata": {
        "id": "JR6vQLW-XxRA"
      },
      "execution_count": null,
      "outputs": []
    },
    {
      "cell_type": "code",
      "source": [
        "# 하나의 배열로 합치고 (n,6) 모양으로 정리하기 = dataset\n",
        "my_data=map(np.ravel, my_data)\n",
        "print(f\"the original my_data didnt change. the shape of accx : {accx.shape}\")\n",
        "dataset = np.column_stack(my_data)\n",
        "print(dataset)\n",
        "print(dataset.shape)"
      ],
      "metadata": {
        "colab": {
          "base_uri": "https://localhost:8080/"
        },
        "id": "C4jnn_kKXy_Y",
        "outputId": "04d365c0-39e5-4d8e-e16e-c8f356c7ebac"
      },
      "execution_count": null,
      "outputs": [
        {
          "output_type": "stream",
          "name": "stdout",
          "text": [
            "the original my_data didnt change. the shape of accx : (18516, 200)\n",
            "[[  2.35       -11.24999     -0.05999     -1.0490036   -3.8429918\n",
            "    2.6371534 ]\n",
            " [  2.56       -11.60999     -0.10999     -0.88602215  -3.1503205\n",
            "    2.2663705 ]\n",
            " [  2.64       -11.71999     -0.11999     -0.9634384   -2.865103\n",
            "    2.2134016 ]\n",
            " ...\n",
            " [ 11.22         3.03        -3.53999      1.3834947   -2.3394878\n",
            "    0.29022044]\n",
            " [ 11.65         3.13        -3.90999      1.1308734   -2.1683574\n",
            "    0.35948756]\n",
            " [ 12.04         3.18        -4.23999      0.8375068   -1.9279597\n",
            "    0.35948756]]\n",
            "(3703200, 6)\n"
          ]
        }
      ]
    },
    {
      "cell_type": "code",
      "source": [
        "dataset = dataset.reshape((18516,200,6))\n",
        "print(dataset.shape)"
      ],
      "metadata": {
        "colab": {
          "base_uri": "https://localhost:8080/"
        },
        "id": "a8dab0GsX1VH",
        "outputId": "b0f57f8c-ddfc-4f7b-a4d9-70e8f2e17924"
      },
      "execution_count": null,
      "outputs": [
        {
          "output_type": "stream",
          "name": "stdout",
          "text": [
            "(18516, 200, 6)\n"
          ]
        }
      ]
    },
    {
      "cell_type": "code",
      "source": [
        "answers.shape"
      ],
      "metadata": {
        "colab": {
          "base_uri": "https://localhost:8080/"
        },
        "id": "rkhrCEYocHSd",
        "outputId": "63e53e5d-9502-4616-ebee-a18d42b84308"
      },
      "execution_count": null,
      "outputs": [
        {
          "output_type": "execute_result",
          "data": {
            "text/plain": [
              "(18516,)"
            ]
          },
          "metadata": {},
          "execution_count": 11
        }
      ]
    },
    {
      "cell_type": "markdown",
      "source": [
        "# Explanatory Data Analysis"
      ],
      "metadata": {
        "id": "t_VThrzkTf6W"
      }
    },
    {
      "cell_type": "code",
      "source": [
        "# 그래프 기본 스타일 설정\n",
        "plt.style.use('default')\n",
        "plt.rcParams['figure.figsize'] = (15,5)\n",
        "plt.rcParams['font.size']= 10\n",
        "plt.rcParams['lines.linewidth']= 1"
      ],
      "metadata": {
        "id": "m0Ap1X0STfJb"
      },
      "execution_count": null,
      "outputs": []
    },
    {
      "cell_type": "markdown",
      "source": [
        "## Acc and gyro plots of walking data <br> 걷기 데이터의 가속도, 각속도 그래프 확인"
      ],
      "metadata": {
        "id": "CJIT6Vj3cevB"
      }
    },
    {
      "cell_type": "code",
      "source": [
        "# walking data 불러오기\n",
        "standing1 = pd.read_csv(test_path+\"hansung_standing_1.txt\", delimiter=\"\\t\", header=None)\n",
        "standing1 = standing1.iloc[:,-6:] # 대부분 accx ~ gyroy 까지 여섯개 columns가 있지만, 가끔 첫째 열이 '날짜시간'인 파일들도 있어서(파일마다 대중 없음), 일괄적으로 이렇게 처리해주기.\n",
        "standing1.columns = [0,1,2,3,4,5] \n",
        "print(standing1.shape)\n",
        "print(standing1)\n",
        "type(standing1)"
      ],
      "metadata": {
        "colab": {
          "base_uri": "https://localhost:8080/"
        },
        "id": "nOOD7UI4UKAB",
        "outputId": "b8d5240b-1b42-4c7f-db8c-9e9685914807"
      },
      "execution_count": null,
      "outputs": [
        {
          "output_type": "stream",
          "name": "stdout",
          "text": [
            "(30000, 6)\n",
            "            0       1       2       3       4       5\n",
            "0      4.8730 -8.4934  2.6793  0.1760  0.0962  0.1304\n",
            "1      4.5941 -8.6627  2.9382  0.1073  0.4034  0.1061\n",
            "2      4.3775 -9.0512  3.0279  0.1760  0.0234  0.1668\n",
            "3      4.3476 -9.0014  2.8984 -0.0908 -0.0008  0.1587\n",
            "4      4.3376 -8.9915  2.8984 -0.0989 -0.0089  0.1668\n",
            "...       ...     ...     ...     ...     ...     ...\n",
            "29995  2.8685 -9.6364  1.3695  0.0224 -0.0130  0.0051\n",
            "29996  2.8685 -9.6463  1.3695  0.0143  0.0113  0.0051\n",
            "29997  2.8685 -9.6463  1.3695  0.0224  0.0113  0.0051\n",
            "29998  2.8586 -9.6463  1.3695  0.0265  0.0153  0.0051\n",
            "29999  2.8586 -9.6463  1.3695  0.0224  0.0153  0.0091\n",
            "\n",
            "[30000 rows x 6 columns]\n"
          ]
        },
        {
          "output_type": "execute_result",
          "data": {
            "text/plain": [
              "pandas.core.frame.DataFrame"
            ]
          },
          "metadata": {},
          "execution_count": 14
        }
      ]
    },
    {
      "cell_type": "code",
      "source": [
        "def makemotionplot(motion_dataframe):\n",
        "  # 변수 지정하기\n",
        "  x = np.linspace(0, 4000, 4000)\n",
        "  y0 = motion_dataframe.loc[:3999, 0]\n",
        "  y1 = motion_dataframe.loc[:3999, 1]\n",
        "  y2 = motion_dataframe.loc[:3999, 2] \n",
        "\n",
        "  # 그래프 기본 스타일 설정\n",
        "  plt.style.use('default')\n",
        "  plt.rcParams['figure.figsize'] = (10,4)\n",
        "  plt.rcParams['font.size']= 10\n",
        "  plt.rcParams['lines.linewidth']= 1\n",
        "\n",
        "  # 그래프 그리기\n",
        "  fig, ax = plt.subplots()\n",
        "  ax.plot(x, y0, '-', label = 'acc x')\n",
        "  ax.plot(x, y1, '-', label = 'acc y')\n",
        "  ax.plot(x, y2, '-', label = 'acc z')\n",
        "\n",
        "  temp = \"\"\n",
        "  if motion_dataframe == standing1:\n",
        "    temp = \"standing1\"\n",
        "\n",
        "  # 그래프 꾸미기\n",
        "  plt.title('Acceleration during' + temp )\n",
        "  plt.xlabel('time(ms)')\n",
        "  plt.ylabel('acceleration')\n",
        "\n",
        "  ax.patch.set_facecolor('whitesmoke')\n",
        "  ax.legend(loc='upper right', frameon = False, fontsize = 10,\n",
        "            facecolor='w')\n",
        "  ax.grid(axis='y')\n",
        "  # ax.spines['left'].set_position('center')        # 왼쪽 축을 가운데 위치로 이동\n",
        "  ax.spines['right'].set_visible(False)          # 오른쪽 축을 보이지 않도록\n",
        "  ax.spines['top'].set_visible(False)            # 위 축을 보이지 않도록\n",
        "  ax.spines['bottom'].set_position(('data', 0))   # 아래 축을 데이터 0의 위치로 이동\n",
        "  ax.tick_params('both', length=0)"
      ],
      "metadata": {
        "id": "iTXbYbFzmcKD"
      },
      "execution_count": null,
      "outputs": []
    },
    {
      "cell_type": "code",
      "source": [
        "makemotionplot(standing1)"
      ],
      "metadata": {
        "colab": {
          "base_uri": "https://localhost:8080/",
          "height": 676
        },
        "id": "vfAwOu95ILjx",
        "outputId": "1be5be68-be07-4e94-d239-406d6f4b6867"
      },
      "execution_count": null,
      "outputs": [
        {
          "output_type": "error",
          "ename": "ValueError",
          "evalue": "ignored",
          "traceback": [
            "\u001b[0;31m---------------------------------------------------------------------------\u001b[0m",
            "\u001b[0;31mValueError\u001b[0m                                Traceback (most recent call last)",
            "\u001b[0;32m<ipython-input-22-c0d211950470>\u001b[0m in \u001b[0;36m<module>\u001b[0;34m()\u001b[0m\n\u001b[0;32m----> 1\u001b[0;31m \u001b[0mmakemotionplot\u001b[0m\u001b[0;34m(\u001b[0m\u001b[0mstanding1\u001b[0m\u001b[0;34m)\u001b[0m\u001b[0;34m\u001b[0m\u001b[0;34m\u001b[0m\u001b[0m\n\u001b[0m",
            "\u001b[0;32m<ipython-input-21-dbacb37fc09a>\u001b[0m in \u001b[0;36mmakemotionplot\u001b[0;34m(motion_dataframe)\u001b[0m\n\u001b[1;32m     19\u001b[0m \u001b[0;34m\u001b[0m\u001b[0m\n\u001b[1;32m     20\u001b[0m   \u001b[0mtemp\u001b[0m \u001b[0;34m=\u001b[0m \u001b[0;34m\"\"\u001b[0m\u001b[0;34m\u001b[0m\u001b[0;34m\u001b[0m\u001b[0m\n\u001b[0;32m---> 21\u001b[0;31m   \u001b[0;32mif\u001b[0m \u001b[0mmotion_dataframe\u001b[0m \u001b[0;34m==\u001b[0m \u001b[0mstanding1\u001b[0m\u001b[0;34m:\u001b[0m\u001b[0;34m\u001b[0m\u001b[0;34m\u001b[0m\u001b[0m\n\u001b[0m\u001b[1;32m     22\u001b[0m     \u001b[0mtemp\u001b[0m \u001b[0;34m=\u001b[0m \u001b[0;34m\"standing1\"\u001b[0m\u001b[0;34m\u001b[0m\u001b[0;34m\u001b[0m\u001b[0m\n\u001b[1;32m     23\u001b[0m \u001b[0;34m\u001b[0m\u001b[0m\n",
            "\u001b[0;32m/usr/local/lib/python3.7/dist-packages/pandas/core/generic.py\u001b[0m in \u001b[0;36m__nonzero__\u001b[0;34m(self)\u001b[0m\n\u001b[1;32m   1328\u001b[0m     \u001b[0;32mdef\u001b[0m \u001b[0m__nonzero__\u001b[0m\u001b[0;34m(\u001b[0m\u001b[0mself\u001b[0m\u001b[0;34m)\u001b[0m\u001b[0;34m:\u001b[0m\u001b[0;34m\u001b[0m\u001b[0;34m\u001b[0m\u001b[0m\n\u001b[1;32m   1329\u001b[0m         raise ValueError(\n\u001b[0;32m-> 1330\u001b[0;31m             \u001b[0;34mf\"The truth value of a {type(self).__name__} is ambiguous. \"\u001b[0m\u001b[0;34m\u001b[0m\u001b[0;34m\u001b[0m\u001b[0m\n\u001b[0m\u001b[1;32m   1331\u001b[0m             \u001b[0;34m\"Use a.empty, a.bool(), a.item(), a.any() or a.all().\"\u001b[0m\u001b[0;34m\u001b[0m\u001b[0;34m\u001b[0m\u001b[0m\n\u001b[1;32m   1332\u001b[0m         )\n",
            "\u001b[0;31mValueError\u001b[0m: The truth value of a DataFrame is ambiguous. Use a.empty, a.bool(), a.item(), a.any() or a.all()."
          ]
        },
        {
          "output_type": "display_data",
          "data": {
            "image/png": "[encoded data removed]",
            "text/plain": [
              "<Figure size 1000x400 with 1 Axes>"
            ]
          },
          "metadata": {}
        }
      ]
    },
    {
      "cell_type": "code",
      "source": [
        "def makeplots(behavior_dataframe):\n",
        "  x = np.linspace(0, 4000, 4000)\n",
        "  y0 = list(behavior_dataframe[0])[:4000]\n",
        "  y1 = list(behavior_dataframe[1])[:4000]\n",
        "  y2 = list(behavior_dataframe[2])[:4000] \n",
        "  \n",
        "  fig, ax = plt.subplots()\n",
        "  ax.plot(x, y0)\n",
        "  ax.plot(x, y1)\n",
        "  ax.plot(x, y2)\n",
        "\n",
        "  #ax.spines['left'].set_position('center')        # 왼쪽 축을 가운데 위치로 이동\n",
        "  ax.spines['right'].set_visible(False)          # 오른쪽 축을 보이지 않도록\n",
        "  ax.spines['top'].set_visible(False)            # 위 축을 보이지 않도록\n",
        "  ax.spines['bottom'].set_position(('data', 0))   # 아래 축을 데이터 0의 위치로 이동\n",
        "  ax.tick_params('both', length=0)"
      ],
      "metadata": {
        "id": "GWA62xdtZthB"
      },
      "execution_count": null,
      "outputs": []
    },
    {
      "cell_type": "markdown",
      "source": [
        "# Divide dataset into train set and test set"
      ],
      "metadata": {
        "id": "j7V1UGC6X533"
      }
    },
    {
      "cell_type": "code",
      "source": [
        "# using sklearn.model_selection\n",
        "trainx, testx, trainy, testy = train_test_split(dataset,\n",
        "                                                answers,\n",
        "                                                test_size=0.3,\n",
        "                                                shuffle = True,\n",
        "                                                random_state = 1004)\n",
        "\n",
        "print('X_train shape:', trainx.shape)\n",
        "print('X_test shape:', testx.shape)\n",
        "print('y_train shape:', trainy.shape)\n",
        "print('y_test shape:', testy.shape)"
      ],
      "metadata": {
        "colab": {
          "base_uri": "https://localhost:8080/"
        },
        "id": "HqUmxTPRX2iE",
        "outputId": "301095df-6507-4de6-e847-994667c033f3"
      },
      "execution_count": null,
      "outputs": [
        {
          "output_type": "stream",
          "name": "stdout",
          "text": [
            "X_train shape: (12961, 200, 6)\n",
            "X_test shape: (5555, 200, 6)\n",
            "y_train shape: (12961,)\n",
            "y_test shape: (5555,)\n"
          ]
        }
      ]
    },
    {
      "cell_type": "markdown",
      "source": [
        "# Model"
      ],
      "metadata": {
        "id": "DjQCDMjeYD7O"
      }
    },
    {
      "cell_type": "markdown",
      "source": [
        "## 최종 선정 모델을 위한 하이퍼 파라메터 튜닝\n",
        "###  **LGBM 주요 하이퍼 파라메터 튜닝**\n",
        "\n",
        "* random_state: random seed 고정 값\n",
        "\n",
        "* n_jobs: CPU 사용 갯수\n",
        "\n",
        "* learning_rate: 학습율. 너무 큰 학습율은 성능을 떨어뜨리고, 너무 작은 학습율은 학습이 느리다. 적절한 값을 찾아야함. n_estimators와 같이 튜닝. default=0.1\n",
        "\n",
        "* n_estimators: 부스팅 스테이지 수. (랜덤포레스트 트리의 갯수 설정과 비슷한 개념). default=100\n",
        "\n",
        "* max_depth: 트리의 깊이. 과대적합 방지용. 과적합시 max_depth 줄이기. default=3.\n",
        "\n",
        "* colsample_bytree: 샘플 사용 비율 (max_features와 비슷한 개념). 과대적합 방지용. default=1.0\n",
        "\n",
        "* application : 모델의 어플리케이션을 정함. 이것이 regression 회귀분석 문제인지, classification 분류 문제인지 정함. default = regression\n",
        "  * regression 회귀분석\n",
        "  * binary 이진분류\n",
        "  * multiclass 다중분류\n",
        "\n",
        "* boosting: 실행하고자하는 알고리즘 타입 정의. default = gdbt\n",
        "  *  gdbt:Traditional Gradient Boosting Decision Tree\n",
        "  * rf : Random Forest\n",
        "  * dart : Dropouts meet Multiple Additive Regression Trees\n",
        "  * goss : Gradient-based One-Side Sampling \n",
        "\n",
        "* num_leaves : 전체 Tree의 leave 수.  default = 31\n",
        "\n",
        "* device : 디폴트 값은 cpu 인데 gpu로 변경 가능\n",
        "\n",
        "* metric : 모델을 구현할 때 손실을 정하기 때문에 중요한 변수 중에 하나입니다. regression과 classification 을 위한 일반적인 손실 값이 아래에 나와있습니다.\n",
        "\n",
        "  * mae : mean absolute error\n",
        "  * mse : mean squared error\n",
        "  * binary_logloss : loss for binary classification\n",
        "  * multi_logloss : loss for multi classification\n",
        "\n",
        "\n",
        "참고: https://nicola-ml.tistory.com/51\n",
        "\n",
        "> 하이퍼 파라미터 튜닝 방안\n",
        "num_levels의 개수를 중심으로 min_child_samples(min_data_in_leaf), max_depth를 함께 조정하면서 모델의 복잡도를 줄이는 것이 기본 튜닝 방안입니다.\n",
        "\n",
        " \n",
        "\n",
        "> num_levels는 개별 트리가 가질 수 있는 최대 리프의 개수이고 LightGBM 모델의 복잡도를 제어하는 주요 파라미터입니다. 일반적으로 num_leaves의 개수를 높이면 정확도가 높아지지만, 반대로 트리의 깊이가 깊어지고 모델이 복잡도가 커져 과적합 영향도가 커집니다.\n",
        "min_data_in_leaf는 사이킷런 래퍼 클래스에서는 min_child_samples로 이름이 바뀝니다. 과적합을 개선하기 위한 중요한 파라미터입니다. num_leaves와 학습 데이터의 크기에 따라 달라지지만, 보통 큰 값으로 설정하면 트리가 깊어지는 것을 방지합니다.\n",
        "max_depth는 명시적으로 깊이의 크기를 제한합니다. num_leaves, min_data_in_leaf와 결합해 과적합을 개선하는 데 사용합니다.\n",
        " \n",
        "\n",
        "> learning_rate를 작게 하면서 n_estimators를 크게 하는 것은 부스팅 계열 튜닝에서 가장 기본적인 튜닝 방안이므로 이를 적용하는 것도 좋습니다. 물론 n_estimators를 너무 크게 하는 것은 과적합으로 오히려 성능이 저하될 수 있습니다.\n",
        "\n",
        " \n",
        "\n",
        "> 이밖에 과적합을 제어하기 위해서 reg_lambda, reg_alpha와 같은 regularization을 적용하거나 학습 데이터에 사용할 피처의 개수나 데이터 샘플링 레코드 개수를 줄이기 위해 colsample_bytree, subsample파라미터를 적용할 수 있습니다."
      ],
      "metadata": {
        "id": "4wTUerjGaCXx"
      }
    },
    {
      "cell_type": "code",
      "source": [
        "params_lgbm = {\n",
        "    'learning_rate': [0.005, 0.01, 0.03, 0.05], #0.1, 0.001, 0.003\n",
        "    'n_estimators': [500, 1000, 2000, 3000], #너무 크게하면 과적합으로 성능 저하 가능\n",
        "    'max_depth': [3, 5, 7],\n",
        "    'colsample_bytree': [0.8, 0.9, 1.0],\n",
        "    'subsample': [0.7, 0.8, 0.9, 1.0],\n",
        "}"
      ],
      "metadata": {
        "id": "xR1pDaxuYFzU"
      },
      "execution_count": null,
      "outputs": []
    },
    {
      "cell_type": "markdown",
      "source": [
        "### **XGB 주요 하이퍼 파라메터 튜닝**\n",
        "* random_state: random seed 고정 값\n",
        "\n",
        "* n_jobs: CPU 사용 갯수\n",
        "\n",
        "* learning_rate: 학습율. 너무 큰 학습율은 성능을 떨어뜨리고, 너무 작은 학습율은 학습이 느리다. 적절한 값을 찾아야함. n_estimators와 같이 튜닝. default=0.1\n",
        "\n",
        "* n_estimators: 부스팅 스테이지 수. (랜덤포레스트 트리의 갯수 설정과 비슷한 개념). default=100\n",
        "\n",
        "* max_depth: 트리의 깊이. 과대적합 방지용. default=3.\n",
        "\n",
        "* subsample: 샘플 사용 비율. 과대적합 방지용. default=1.0\n",
        "\n",
        "* max_features: 최대로 사용할 feature의 비율. 과대적합 방지용. default=1.0"
      ],
      "metadata": {
        "id": "czsiHkLIajJ2"
      }
    },
    {
      "cell_type": "code",
      "source": [
        "params_xgb = {\n",
        "    'learning_rate': [0.005, 0.01, 0.03, 0.05],\n",
        "    'n_estimators': [500, 1000, 2000, 3000],\n",
        "    'max_depth': [3, 5, 7],\n",
        "    'max_features': [0.8, 0.9, 1.0],\n",
        "    'subsample': [0.7, 0.8, 0.9, 1.0],\n",
        "}"
      ],
      "metadata": {
        "id": "SoNHWWALafn4"
      },
      "execution_count": null,
      "outputs": []
    },
    {
      "cell_type": "markdown",
      "source": [
        "### **RF 주요 하이퍼 파라메터 튜닝**\n",
        "* random_state: random seed 고정 값\n",
        "\n",
        "* n_jobs: CPU 사용 갯수\n",
        "\n",
        "* max_depth: 깊어질 수 있는 최대 깊이. 과대적합 방지용\n",
        "\n",
        "* n_estimators: 암상블하는 트리의 갯수\n",
        "\n",
        "* max_features: best split을 판단할 때 최대로 사용할 feature의 갯수 {‘auto’, ‘sqrt’, ‘log2’}. 과대적합 방지용\n",
        "\n",
        "* min_samples_split: 트리가 분할할 때 최소 샘플의 갯수. default=2. 과대적합 방지용"
      ],
      "metadata": {
        "id": "YHxPe8bAa3aa"
      }
    },
    {
      "cell_type": "code",
      "source": [
        "params_rf = {\n",
        "    'n_estimators': [500, 1000, 2000, 3000],\n",
        "    'max_depth': [3, 5, 7],\n",
        "    'max_features': [0.8, 0.9, 1.0],\n",
        "    'min_samples_split': [2, 4, 6, 8],\n",
        "}"
      ],
      "metadata": {
        "id": "S5bYZ-Ida_Kl"
      },
      "execution_count": null,
      "outputs": []
    },
    {
      "cell_type": "markdown",
      "source": [
        "# 모델 성능 비교 함수 설정\n"
      ],
      "metadata": {
        "id": "QKC6jVGrG2Kk"
      }
    },
    {
      "cell_type": "code",
      "source": [
        "my_predictions = {}\n",
        "\n",
        "# prediction plot\n",
        "def plot_predictions(name_, actual, pred):\n",
        "    df = pd.DataFrame({'actual': y_test, 'prediction': pred})\n",
        "    df = df.sort_values(by='actual').reset_index(drop=True)\n",
        "\n",
        "    plt.figure(figsize=(12, 9))\n",
        "    plt.scatter(df.index, df['prediction'], marker='x', color='r')\n",
        "    plt.scatter(df.index, df['actual'], alpha=0.7, marker='o', color='black')\n",
        "    plt.title(name_, fontsize=15)\n",
        "    plt.legend(['prediction', 'actual'], fontsize=12)\n",
        "    plt.show()\n",
        "\n",
        "\n",
        "# evaluation plot\n",
        "def mse_eval(name_, actual, pred):\n",
        "    global predictions\n",
        "    global colors\n",
        "\n",
        "    plot_predictions(name_, actual, pred)\n",
        "\n",
        "    mse = mean_squared_error(actual, pred)\n",
        "    my_predictions[name_] = mse\n",
        "\n",
        "    y_value = sorted(my_predictions.items(), key=lambda x: x[1], reverse=True)\n",
        "\n",
        "    df = pd.DataFrame(y_value, columns=['model', 'mse'])\n",
        "    print(df)\n",
        "    min_ = df['mse'].min() - 10\n",
        "    max_ = df['mse'].max() + 10\n",
        "\n",
        "    length = len(df)\n",
        "\n",
        "    plt.figure(figsize=(10, length))\n",
        "    ax = plt.subplot()\n",
        "    ax.set_yticks(np.arange(len(df)))\n",
        "    ax.set_yticklabels(df['model'], fontsize=15)\n",
        "    bars = ax.barh(np.arange(len(df)), df['mse'])\n",
        "\n",
        "    for i, v in enumerate(df['mse']):\n",
        "        idx = np.random.choice(len(colors))\n",
        "        bars[i].set_color(colors[idx])\n",
        "        ax.text(v + 2, i, str(round(v, 3)), color='k', fontsize=15, fontweight='bold')\n",
        "\n",
        "    plt.title('MSE Error', fontsize=18)\n",
        "    plt.xlim(min_, max_)\n",
        "\n",
        "    plt.show()\n",
        "\n"
      ],
      "metadata": {
        "id": "bnfIqhM7A-XD"
      },
      "execution_count": null,
      "outputs": []
    },
    {
      "cell_type": "markdown",
      "source": [
        "# 파이프라인 형태"
      ],
      "metadata": {
        "id": "uNEl5wiPHI9I"
      }
    },
    {
      "cell_type": "code",
      "source": [
        "def final_model_selection(x_train, y_train, x_test, y_test):\n",
        "        # lgbm에 들어가기 위해 컬럼명 변환\n",
        "\n",
        "        # lgbm\n",
        "        lgbm = LGBMRegressor(random_state=1)\n",
        "        lgbm.fit(x_train, y_train)\n",
        "        lgbm_pred = lgbm.predict(x_test)\n",
        "        mse_lgbm = mean_squared_error(y_test, lgbm_pred)\n",
        "        # xgb\n",
        "        xgb = XGBRegressor(random_state=1)\n",
        "        xgb.fit(x_train, y_train)\n",
        "        xgb_pred = xgb.predict(x_test)\n",
        "        mse_xgb = mean_squared_error(y_test, xgb_pred)\n",
        "        # RF\n",
        "        rfr = RandomForestRegressor(random_state=1)\n",
        "        rfr.fit(x_train, y_train)\n",
        "        rfr_pred = rfr.predict(x_test)\n",
        "        mse_rf = mean_squared_error(y_test, rfr_pred)\n",
        "\n",
        "        # mse 기준으로 모델간 비교하여 best 모델선정\n",
        "        if min(mse_lgbm, mse_xgb , mse_rf) == mse_lgbm:\n",
        "                params= params_lgbm\n",
        "                model= LGBMRegressor()\n",
        "        elif min(mse_lgbm, mse_xgb , mse_rf) == mse_xgb:\n",
        "                params= params_xgb\n",
        "                model= XGBRegressor()\n",
        "        elif min(mse_lgbm, mse_xgb , mse_rf) == mse_rf:\n",
        "                params= params_rf\n",
        "                model= RandomForestRegressor()\n",
        "\n",
        "        # best 모델에서 random search 로 하이퍼 파리미터 최적화\n",
        "        best_model= RandomizedSearchCV(model, params, random_state=1, cv=5, n_iter=100, scoring='neg_mean_squared_error')\n",
        "        best_model.fit(x_train, y_train)\n",
        "        return best_model"
      ],
      "metadata": {
        "id": "EgokrmsIHILd"
      },
      "execution_count": null,
      "outputs": []
    },
    {
      "cell_type": "code",
      "source": [
        "def one_hot_encoding(data):\n",
        "    if data==\"Y\":\n",
        "        return 1\n",
        "    else:\n",
        "        return 0"
      ],
      "metadata": {
        "id": "zMcrnJhKHSJw"
      },
      "execution_count": null,
      "outputs": []
    }
  ]
}
