{
  "nbformat": 4,
  "nbformat_minor": 0,
  "metadata": {
    "colab": {
      "name": "pj_sequencemodel_v2.ipynb",
      "provenance": [],
      "machine_shape": "hm",
      "collapsed_sections": []
    },
    "kernelspec": {
      "name": "python3",
      "display_name": "Python 3"
    },
    "language_info": {
      "name": "python"
    },
    "accelerator": "TPU"
  },
  "cells": [
    {
      "cell_type": "markdown",
      "source": [
        "# Import libraries"
      ],
      "metadata": {
        "id": "ToRKKbjU5ojM"
      }
    },
    {
      "cell_type": "code",
      "execution_count": 32,
      "metadata": {
        "id": "ti0c9n943rXi",
        "colab": {
          "base_uri": "https://localhost:8080/"
        },
        "outputId": "d3ee3f16-4d20-4693-bcfe-baef47ad59f4"
      },
      "outputs": [
        {
          "output_type": "stream",
          "name": "stdout",
          "text": [
            "2.7.0\n"
          ]
        }
      ],
      "source": [
        "import os\n",
        "from os import path, getcwd, chdir\n",
        "import random\n",
        "import numpy as np\n",
        "import pandas as pd\n",
        "import matplotlib.pyplot as plt\n",
        "from sklearn.model_selection import train_test_split\n",
        "import tensorflow as tf\n",
        "from tensorflow import keras\n",
        "from tensorflow.keras import Model\n",
        "\n",
        "print(tf.__version__)"
      ]
    },
    {
      "cell_type": "code",
      "source": [
        "def plot_series(time, series, format=\"-\", start = 0, end = None):\n",
        "  plt.plot(time[start:end], series[start:end], format)\n",
        "  plt.xlabel(\"time\")\n",
        "  plt.ylabel(\"value\")\n",
        "  plt.grid(True)"
      ],
      "metadata": {
        "id": "28nvgWA755ro"
      },
      "execution_count": null,
      "outputs": []
    },
    {
      "cell_type": "markdown",
      "source": [
        "# Data\n",
        "## Open and reshape raw datasets"
      ],
      "metadata": {
        "id": "cAPvQ1Ll5jAZ"
      }
    },
    {
      "cell_type": "code",
      "source": [
        "file_path = '/content/drive/MyDrive/motion_dataset/'\n",
        "train_path = file_path + 'train_dataset/'"
      ],
      "metadata": {
        "id": "APi6zWB7JV5x"
      },
      "execution_count": 3,
      "outputs": []
    },
    {
      "cell_type": "code",
      "source": [
        "dataset = np.loadtxt(train_path+'dataset_withlabels.txt')\n",
        "print(dataset.shape)"
      ],
      "metadata": {
        "id": "BCBZeMSc5heP",
        "colab": {
          "base_uri": "https://localhost:8080/"
        },
        "outputId": "b5230be4-daa2-49b5-a282-f4182233c5b9"
      },
      "execution_count": 4,
      "outputs": [
        {
          "output_type": "stream",
          "name": "stdout",
          "text": [
            "(3718058, 7)\n"
          ]
        }
      ]
    },
    {
      "cell_type": "code",
      "source": [
        "dataset.shape[0]"
      ],
      "metadata": {
        "colab": {
          "base_uri": "https://localhost:8080/"
        },
        "id": "R6J9IgUl-_CK",
        "outputId": "d8528f81-afe3-4dc9-b18f-461b1212577e"
      },
      "execution_count": 5,
      "outputs": [
        {
          "output_type": "execute_result",
          "data": {
            "text/plain": [
              "3718058"
            ]
          },
          "metadata": {},
          "execution_count": 5
        }
      ]
    },
    {
      "cell_type": "code",
      "source": [
        "# drop some values from dataset to reshape them properly by using indexing\n",
        "org_size = dataset.shape[0]\n",
        "new_size = 200\n",
        "reshape_dataset = dataset[(org_size%new_size):, :].reshape((-1,200,7)) #뒤에서 자르면 앉기 데이터가 상당 부분 소실되어서, 앞에서 crop함. \n",
        "print(reshape_dataset.shape)"
      ],
      "metadata": {
        "id": "8XLVsaqwMJm-",
        "colab": {
          "base_uri": "https://localhost:8080/"
        },
        "outputId": "05179078-2ae5-4426-88b5-8c255857e3ad"
      },
      "execution_count": 11,
      "outputs": [
        {
          "output_type": "stream",
          "name": "stdout",
          "text": [
            "(18590, 200, 7)\n"
          ]
        }
      ]
    },
    {
      "cell_type": "markdown",
      "source": [
        "## Spliting Train set & Test Set \n",
        "\n"
      ],
      "metadata": {
        "id": "lzPvoGIvotch"
      }
    },
    {
      "cell_type": "code",
      "source": [
        "# using sklearn.model_selection\n",
        "trainx, testx, trainy, testy = train_test_split(reshape_dataset[:,:,0:6], # x 0~5\n",
        "                                                reshape_dataset[:,:,6], # y 6\n",
        "                                                test_size=0.3,\n",
        "                                                shuffle = True,\n",
        "                                                random_state = 1004)\n",
        "\n",
        "print('trainx shape:', trainx.shape)\n",
        "print('testx shape:', testx.shape)\n",
        "print('trainy shape:', trainy.shape)\n",
        "print('testy shape:', testy.shape)"
      ],
      "metadata": {
        "id": "nuDnpU5PCu6I",
        "colab": {
          "base_uri": "https://localhost:8080/"
        },
        "outputId": "5183c76b-4280-4cff-8069-636684f53189"
      },
      "execution_count": 27,
      "outputs": [
        {
          "output_type": "stream",
          "name": "stdout",
          "text": [
            "trainx shape: (13013, 200, 6)\n",
            "testx shape: (5577, 200, 6)\n",
            "trainy shape: (13013, 200)\n",
            "testy shape: (5577, 200)\n"
          ]
        }
      ]
    },
    {
      "cell_type": "code",
      "source": [
        "# reshape trainy and testy from (n, 200) to (n, 1) = indexing and .reshape((n,1)).astype(int)\n",
        "# to remain the only label per one motion (200*5)\n",
        "trainy = trainy[:, 0].reshape((trainy.shape[0],1)).astype(int)\n",
        "testy = testy[:, 0].reshape((testy.shape[0],1)).astype(int)\n",
        "print('trainy shape:', trainy.shape)\n",
        "print('testy shape:', testy.shape)\n",
        "print(trainy)\n",
        "print(testy)\n",
        "\n",
        "# change the label value 1,2,3,4 -> 0,1,2,3\n",
        "\n",
        "trainy = trainy -1\n",
        "testy = testy - 1\n",
        "# check again the unique values in testy and trainy set\n",
        "print(np.unique(trainy))\n",
        "print(np.unique(testy))"
      ],
      "metadata": {
        "id": "u5UjVQyL1BNN",
        "colab": {
          "base_uri": "https://localhost:8080/"
        },
        "outputId": "c2373177-17f9-420e-e4f4-ca48193e3c0e"
      },
      "execution_count": 28,
      "outputs": [
        {
          "output_type": "stream",
          "name": "stdout",
          "text": [
            "trainy shape: (13013, 1)\n",
            "testy shape: (5577, 1)\n",
            "[[1]\n",
            " [1]\n",
            " [3]\n",
            " ...\n",
            " [3]\n",
            " [1]\n",
            " [3]]\n",
            "[[1]\n",
            " [1]\n",
            " [1]\n",
            " ...\n",
            " [2]\n",
            " [2]\n",
            " [1]]\n",
            "[0 1 2 3]\n",
            "[0 1 2 3]\n"
          ]
        }
      ]
    },
    {
      "cell_type": "code",
      "source": [
        "print(np.unique(trainy))\n",
        "print(np.unique(testy))"
      ],
      "metadata": {
        "colab": {
          "base_uri": "https://localhost:8080/"
        },
        "id": "nOJZJjHP7SDD",
        "outputId": "856bdca7-209b-4cdd-ecac-cbb5ea42a07b"
      },
      "execution_count": 16,
      "outputs": [
        {
          "output_type": "stream",
          "name": "stdout",
          "text": [
            "[1 2 3 4]\n",
            "[1 2 3 4]\n"
          ]
        }
      ]
    },
    {
      "cell_type": "code",
      "source": [
        "# trainy = to_categorical(trainy, 4)\n",
        "# testy = to_categorical(testy, 4)"
      ],
      "metadata": {
        "id": "0TZZ5dJF8im-"
      },
      "execution_count": null,
      "outputs": []
    },
    {
      "cell_type": "markdown",
      "source": [
        "# Model"
      ],
      "metadata": {
        "id": "RkmcPVuT5sjE"
      }
    },
    {
      "cell_type": "code",
      "source": [
        "def train_motion(trainx, trainy, testx, testy):\n",
        "\n",
        "  class myCallback(tf.keras.callbacks.Callback):\n",
        "    def on_epoch_end(self, epoch, logs={}):\n",
        "      if logs.get('acc') > 0.990:\n",
        "        print(\"\\nReached 99.0% accuracy so canceling training.\")\n",
        "\n",
        "  callbacks = myCallback()\n",
        "\n",
        "  model = tf.keras.models.Sequential([\n",
        "      tf.keras.layers.Bidirectional(tf.keras.layers.LSTM(units= 200, return_sequences = False), input_shape = (200,6)),\n",
        "      tf.keras.layers.BatchNormalization(),\n",
        "      tf.keras.layers.Dropout(0.2),\n",
        "      tf.keras.layers.Dense(4, activation = 'softmax')\n",
        "  ])\n",
        "  model.compile(optimizer=tf.keras.optimizers.Adam(learning_rate=0.001), loss='sparse_categorical_crossentropy', metrics =['acc'])\n",
        "  history = model.fit(trainx, trainy,\n",
        "                      validation_data = (testx, testy),\n",
        "                      epochs = 5,\n",
        "                      callbacks=[callbacks])\n",
        "  \n",
        "  acc = history.history['acc']\n",
        "  loss = history.history['loss']\n",
        "  val_acc = history.history['val_acc']\n",
        "  val_loss = history.history['val_loss']\n",
        "  \n",
        "  return history.epoch, history.history['acc'][-1]"
      ],
      "metadata": {
        "id": "dj2B8UZi5xqN"
      },
      "execution_count": 35,
      "outputs": []
    },
    {
      "cell_type": "code",
      "source": [
        "train_motion(trainx, trainy, testx, testy)"
      ],
      "metadata": {
        "id": "K2z7nNjGKyb3",
        "colab": {
          "base_uri": "https://localhost:8080/"
        },
        "outputId": "f8f804bc-b3c0-4ce3-b00b-e51aa837e2a4"
      },
      "execution_count": 36,
      "outputs": [
        {
          "output_type": "stream",
          "name": "stdout",
          "text": [
            "Epoch 1/5\n",
            "407/407 [==============================] - 189s 456ms/step - loss: 0.3117 - acc: 0.9215 - val_loss: 0.1607 - val_acc: 0.9491\n",
            "Epoch 2/5\n",
            "407/407 [==============================] - 182s 448ms/step - loss: 0.1233 - acc: 0.9627 - val_loss: 0.1137 - val_acc: 0.9688\n",
            "Epoch 3/5\n",
            "407/407 [==============================] - 183s 449ms/step - loss: 0.1189 - acc: 0.9624 - val_loss: 0.1061 - val_acc: 0.9695\n",
            "Epoch 4/5\n",
            "407/407 [==============================] - 182s 447ms/step - loss: 0.0907 - acc: 0.9708 - val_loss: 0.0983 - val_acc: 0.9744\n",
            "Epoch 5/5\n",
            "407/407 [==============================] - 183s 449ms/step - loss: 0.0861 - acc: 0.9719 - val_loss: 0.1067 - val_acc: 0.9636\n"
          ]
        },
        {
          "output_type": "execute_result",
          "data": {
            "text/plain": [
              "([0, 1, 2, 3, 4], 0.9718742966651917)"
            ]
          },
          "metadata": {},
          "execution_count": 36
        }
      ]
    },
    {
      "cell_type": "code",
      "source": [
        "# 학습과정 시각화\n",
        "epochs = range(1, len(acc) + 1)\n",
        "\n",
        "plt.plot(epochs, acc, 'b', label='Training acc')\n",
        "plt.plot(epochs, val_acc, 'g', label='Validation acc')\n",
        "plt.title('Training and validation accuracy')\n",
        "plt.legend()\n",
        "\n",
        "plt.figure()\n",
        "\n",
        "plt.plot(epochs, loss, 'y', label='Training loss')\n",
        "plt.plot(epochs, val_loss, 'r', label='Validation loss')\n",
        "plt.title('Training and validation loss')\n",
        "plt.legend()\n",
        "\n",
        "plt.show()"
      ],
      "metadata": {
        "colab": {
          "base_uri": "https://localhost:8080/",
          "height": 248
        },
        "id": "G8WM81dhAsjt",
        "outputId": "2b519601-fc16-44cd-a81f-8cbec1f9ceaa"
      },
      "execution_count": 37,
      "outputs": [
        {
          "output_type": "error",
          "ename": "NameError",
          "evalue": "ignored",
          "traceback": [
            "\u001b[0;31m---------------------------------------------------------------------------\u001b[0m",
            "\u001b[0;31mNameError\u001b[0m                                 Traceback (most recent call last)",
            "\u001b[0;32m<ipython-input-37-f7953db6414e>\u001b[0m in \u001b[0;36m<module>\u001b[0;34m()\u001b[0m\n\u001b[0;32m----> 1\u001b[0;31m \u001b[0mepochs\u001b[0m \u001b[0;34m=\u001b[0m \u001b[0mrange\u001b[0m\u001b[0;34m(\u001b[0m\u001b[0;36m1\u001b[0m\u001b[0;34m,\u001b[0m \u001b[0mlen\u001b[0m\u001b[0;34m(\u001b[0m\u001b[0macc\u001b[0m\u001b[0;34m)\u001b[0m \u001b[0;34m+\u001b[0m \u001b[0;36m1\u001b[0m\u001b[0;34m)\u001b[0m\u001b[0;34m\u001b[0m\u001b[0;34m\u001b[0m\u001b[0m\n\u001b[0m\u001b[1;32m      2\u001b[0m \u001b[0;34m\u001b[0m\u001b[0m\n\u001b[1;32m      3\u001b[0m \u001b[0mplt\u001b[0m\u001b[0;34m.\u001b[0m\u001b[0mplot\u001b[0m\u001b[0;34m(\u001b[0m\u001b[0mepochs\u001b[0m\u001b[0;34m,\u001b[0m \u001b[0macc\u001b[0m\u001b[0;34m,\u001b[0m \u001b[0;34m'b'\u001b[0m\u001b[0;34m,\u001b[0m \u001b[0mlabel\u001b[0m\u001b[0;34m=\u001b[0m\u001b[0;34m'Training acc'\u001b[0m\u001b[0;34m)\u001b[0m\u001b[0;34m\u001b[0m\u001b[0;34m\u001b[0m\u001b[0m\n\u001b[1;32m      4\u001b[0m \u001b[0mplt\u001b[0m\u001b[0;34m.\u001b[0m\u001b[0mplot\u001b[0m\u001b[0;34m(\u001b[0m\u001b[0mepochs\u001b[0m\u001b[0;34m,\u001b[0m \u001b[0mval_acc\u001b[0m\u001b[0;34m,\u001b[0m \u001b[0;34m'g'\u001b[0m\u001b[0;34m,\u001b[0m \u001b[0mlabel\u001b[0m\u001b[0;34m=\u001b[0m\u001b[0;34m'Validation acc'\u001b[0m\u001b[0;34m)\u001b[0m\u001b[0;34m\u001b[0m\u001b[0;34m\u001b[0m\u001b[0m\n\u001b[1;32m      5\u001b[0m \u001b[0mplt\u001b[0m\u001b[0;34m.\u001b[0m\u001b[0mtitle\u001b[0m\u001b[0;34m(\u001b[0m\u001b[0;34m'Training and validation accuracy'\u001b[0m\u001b[0;34m)\u001b[0m\u001b[0;34m\u001b[0m\u001b[0;34m\u001b[0m\u001b[0m\n",
            "\u001b[0;31mNameError\u001b[0m: name 'acc' is not defined"
          ]
        }
      ]
    },
    {
      "cell_type": "code",
      "source": [
        "tf.keras.backend.clear_session()"
      ],
      "metadata": {
        "id": "J7yiey2NBk4k"
      },
      "execution_count": null,
      "outputs": []
    }
  ]
}
