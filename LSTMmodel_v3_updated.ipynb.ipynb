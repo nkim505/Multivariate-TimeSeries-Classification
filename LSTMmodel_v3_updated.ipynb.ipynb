{
  "nbformat": 4,
  "nbformat_minor": 0,
  "metadata": {
    "colab": {
      "name": "pj_sequencemodel_v2.ipynb",
      "provenance": [],
      "machine_shape": "hm",
      "collapsed_sections": []
    },
    "kernelspec": {
      "name": "python3",
      "display_name": "Python 3"
    },
    "language_info": {
      "name": "python"
    },
    "accelerator": "GPU"
  },
  "cells": [
    {
      "cell_type": "markdown",
      "source": [
        "# Import libraries"
      ],
      "metadata": {
        "id": "ToRKKbjU5ojM"
      }
    },
    {
      "cell_type": "code",
      "execution_count": 12,
      "metadata": {
        "id": "ti0c9n943rXi",
        "colab": {
          "base_uri": "https://localhost:8080/"
        },
        "outputId": "ca4795d7-e8df-4f5c-d12e-4c2486839e2e"
      },
      "outputs": [
        {
          "output_type": "stream",
          "name": "stdout",
          "text": [
            "2.7.0\n"
          ]
        }
      ],
      "source": [
        "import os\n",
        "from os import path, getcwd, chdir\n",
        "import random\n",
        "import numpy as np\n",
        "import pandas as pd\n",
        "import matplotlib.pyplot as plt\n",
        "from sklearn.model_selection import train_test_split\n",
        "import tensorflow as tf\n",
        "from tensorflow import keras\n",
        "from tensorflow.keras import Model\n",
        "\n",
        "print(tf.__version__)"
      ]
    },
    {
      "cell_type": "code",
      "source": [
        "def plot_series(time, series, format=\"-\", start = 0, end = None):\n",
        "  plt.plot(time[start:end], series[start:end], format)\n",
        "  plt.xlabel(\"time\")\n",
        "  plt.ylabel(\"value\")\n",
        "  plt.grid(True)"
      ],
      "metadata": {
        "id": "28nvgWA755ro"
      },
      "execution_count": 13,
      "outputs": []
    },
    {
      "cell_type": "markdown",
      "source": [
        "# Data\n",
        "## Open and reshape raw datasets"
      ],
      "metadata": {
        "id": "cAPvQ1Ll5jAZ"
      }
    },
    {
      "cell_type": "code",
      "source": [
        "file_path = '/content/drive/MyDrive/motion_dataset/'\n",
        "train_path = file_path + 'train_dataset/'"
      ],
      "metadata": {
        "id": "APi6zWB7JV5x"
      },
      "execution_count": 14,
      "outputs": []
    },
    {
      "cell_type": "code",
      "source": [
        "dataset = np.loadtxt(train_path+'dataset_withlabels.txt')\n",
        "print(dataset.shape)"
      ],
      "metadata": {
        "id": "BCBZeMSc5heP",
        "colab": {
          "base_uri": "https://localhost:8080/"
        },
        "outputId": "93621d0b-4ce4-42bd-c53e-6de00746d51b"
      },
      "execution_count": 15,
      "outputs": [
        {
          "output_type": "stream",
          "name": "stdout",
          "text": [
            "(3718058, 7)\n"
          ]
        }
      ]
    },
    {
      "cell_type": "code",
      "source": [
        "dataset.shape[0]"
      ],
      "metadata": {
        "colab": {
          "base_uri": "https://localhost:8080/"
        },
        "id": "R6J9IgUl-_CK",
        "outputId": "96d76e41-ce1f-4163-d1bc-fb32951e2dc5"
      },
      "execution_count": 5,
      "outputs": [
        {
          "output_type": "execute_result",
          "data": {
            "text/plain": [
              "3718058"
            ]
          },
          "metadata": {},
          "execution_count": 5
        }
      ]
    },
    {
      "cell_type": "code",
      "source": [
        "# drop some values from dataset to reshape them properly by using indexing\n",
        "org_size = dataset.shape[0]\n",
        "new_size = 200\n",
        "reshape_dataset = dataset[(org_size%new_size):, :].reshape((-1,200,7)) #뒤에서 데이터를 자르면 앉기 데이터가 상당 부분 소실되어서, 앞에서 crop함. \n",
        "print(reshape_dataset.shape)"
      ],
      "metadata": {
        "id": "8XLVsaqwMJm-",
        "colab": {
          "base_uri": "https://localhost:8080/"
        },
        "outputId": "f3d9a07f-baca-4178-c5e5-130af783643d"
      },
      "execution_count": 16,
      "outputs": [
        {
          "output_type": "stream",
          "name": "stdout",
          "text": [
            "(18590, 200, 7)\n"
          ]
        }
      ]
    },
    {
      "cell_type": "markdown",
      "source": [
        "## Spliting Train set & Test Set \n",
        "\n"
      ],
      "metadata": {
        "id": "lzPvoGIvotch"
      }
    },
    {
      "cell_type": "code",
      "source": [
        "# using sklearn.model_selection\n",
        "trainx, testx, trainy, testy = train_test_split(reshape_dataset[:,:,0:6], # x 0~5\n",
        "                                                reshape_dataset[:,:,6], # y 6\n",
        "                                                test_size=0.3,\n",
        "                                                shuffle = True,\n",
        "                                                random_state = 1004)\n",
        "\n",
        "print('trainx shape:', trainx.shape)\n",
        "print('testx shape:', testx.shape)\n",
        "print('trainy shape:', trainy.shape)\n",
        "print('testy shape:', testy.shape)"
      ],
      "metadata": {
        "id": "nuDnpU5PCu6I",
        "colab": {
          "base_uri": "https://localhost:8080/"
        },
        "outputId": "38f29687-d459-4bae-e4d7-f0999235ea12"
      },
      "execution_count": 17,
      "outputs": [
        {
          "output_type": "stream",
          "name": "stdout",
          "text": [
            "trainx shape: (13013, 200, 6)\n",
            "testx shape: (5577, 200, 6)\n",
            "trainy shape: (13013, 200)\n",
            "testy shape: (5577, 200)\n"
          ]
        }
      ]
    },
    {
      "cell_type": "code",
      "source": [
        "# reshape trainy and testy from (n, 200) to (n, 1) = indexing and .reshape((n,1)).astype(int)\n",
        "# to remain the only label per one motion (200*5)\n",
        "trainy = trainy[:, 0].reshape((trainy.shape[0],1)).astype(int)\n",
        "testy = testy[:, 0].reshape((testy.shape[0],1)).astype(int)\n",
        "print('trainy shape:', trainy.shape)\n",
        "print('testy shape:', testy.shape)\n",
        "print(trainy)\n",
        "print(testy)\n",
        "\n",
        "# change the label value 1,2,3,4 -> 0,1,2,3\n",
        "\n",
        "trainy = trainy -1\n",
        "testy = testy - 1\n",
        "# check again the unique values in testy and trainy set\n",
        "print(np.unique(trainy))\n",
        "print(np.unique(testy))"
      ],
      "metadata": {
        "id": "u5UjVQyL1BNN",
        "colab": {
          "base_uri": "https://localhost:8080/"
        },
        "outputId": "6a27c234-2dbf-40af-f790-2d25e3a003f6"
      },
      "execution_count": 18,
      "outputs": [
        {
          "output_type": "stream",
          "name": "stdout",
          "text": [
            "trainy shape: (13013, 1)\n",
            "testy shape: (5577, 1)\n",
            "[[1]\n",
            " [1]\n",
            " [3]\n",
            " ...\n",
            " [3]\n",
            " [1]\n",
            " [3]]\n",
            "[[1]\n",
            " [1]\n",
            " [1]\n",
            " ...\n",
            " [2]\n",
            " [2]\n",
            " [1]]\n",
            "[0 1 2 3]\n",
            "[0 1 2 3]\n"
          ]
        }
      ]
    },
    {
      "cell_type": "code",
      "source": [
        "# trainy = to_categorical(trainy, 4)\n",
        "# testy = to_categorical(testy, 4)"
      ],
      "metadata": {
        "id": "0TZZ5dJF8im-"
      },
      "execution_count": 9,
      "outputs": []
    },
    {
      "cell_type": "markdown",
      "source": [
        "# Model"
      ],
      "metadata": {
        "id": "RkmcPVuT5sjE"
      }
    },
    {
      "cell_type": "code",
      "source": [
        "def train_motion(trainx, trainy, testx, testy):\n",
        "\n",
        "  class myCallback(tf.keras.callbacks.Callback):\n",
        "    def on_epoch_end(self, epoch, logs={}):\n",
        "      if logs.get('acc') > 0.980:\n",
        "        print(\"\\nReached 98.0% accuracy so canceling training.\")\n",
        "        self.model.stop_training = True\n",
        " \n",
        "  callbacks = myCallback()\n",
        "\n",
        "  model = tf.keras.models.Sequential([\n",
        "      tf.keras.layers.LSTM(units = 100, input_shape = (200,6), return_sequences = False),\n",
        "      tf.keras.layers.BatchNormalization(),\n",
        "      tf.keras.layers.Dropout(0.2),\n",
        "      tf.keras.layers.Dense(4, activation = 'softmax')\n",
        "  ])\n",
        "  model.compile(optimizer=tf.keras.optimizers.Adam(learning_rate=0.001), loss='sparse_categorical_crossentropy', metrics =['acc'])\n",
        "  history = model.fit(trainx, trainy,\n",
        "                      validation_data = (testx, testy),\n",
        "                      epochs = 20,\n",
        "                      callbacks=[callbacks])\n",
        "  \n",
        "  acc = history.history['acc']\n",
        "  loss = history.history['loss']\n",
        "  val_acc = history.history['val_acc']\n",
        "  val_loss = history.history['val_loss']\n",
        "  # history.epoch, history.history['acc'][-1]\n",
        "  return model"
      ],
      "metadata": {
        "id": "dj2B8UZi5xqN"
      },
      "execution_count": 19,
      "outputs": []
    },
    {
      "cell_type": "code",
      "source": [
        "#model1 = train_motion(trainx, trainy, testx, testy)\n",
        "model2 = train_motion(trainx, trainy, testx, testy)"
      ],
      "metadata": {
        "id": "K2z7nNjGKyb3",
        "colab": {
          "base_uri": "https://localhost:8080/"
        },
        "outputId": "0749acea-025d-45d3-9317-c51da939614d"
      },
      "execution_count": 20,
      "outputs": [
        {
          "output_type": "stream",
          "name": "stdout",
          "text": [
            "Epoch 1/20\n",
            "  5/407 [..............................] - ETA: 18s - loss: 1.8675 - acc: 0.3063WARNING:tensorflow:Callback method `on_train_batch_end` is slow compared to the batch time (batch time: 0.0198s vs `on_train_batch_end` time: 0.0244s). Check your callbacks.\n",
            "407/407 [==============================] - 25s 55ms/step - loss: 0.4064 - acc: 0.9033 - val_loss: 0.1331 - val_acc: 0.9674\n",
            "Epoch 2/20\n",
            "407/407 [==============================] - 22s 54ms/step - loss: 0.1416 - acc: 0.9620 - val_loss: 0.1287 - val_acc: 0.9638\n",
            "Epoch 3/20\n",
            "407/407 [==============================] - 23s 57ms/step - loss: 0.1257 - acc: 0.9632 - val_loss: 0.1503 - val_acc: 0.9571\n",
            "Epoch 4/20\n",
            "407/407 [==============================] - 24s 58ms/step - loss: 0.1160 - acc: 0.9669 - val_loss: 0.0996 - val_acc: 0.9729\n",
            "Epoch 5/20\n",
            "407/407 [==============================] - 25s 62ms/step - loss: 0.1023 - acc: 0.9683 - val_loss: 0.0951 - val_acc: 0.9744\n",
            "Epoch 6/20\n",
            "407/407 [==============================] - 26s 63ms/step - loss: 0.1009 - acc: 0.9699 - val_loss: 0.0869 - val_acc: 0.9776\n",
            "Epoch 7/20\n",
            "407/407 [==============================] - 23s 56ms/step - loss: 0.0877 - acc: 0.9727 - val_loss: 0.0940 - val_acc: 0.9753\n",
            "Epoch 8/20\n",
            "407/407 [==============================] - 22s 53ms/step - loss: 0.0969 - acc: 0.9680 - val_loss: 0.0988 - val_acc: 0.9708\n",
            "Epoch 9/20\n",
            "407/407 [==============================] - 22s 53ms/step - loss: 0.0902 - acc: 0.9726 - val_loss: 0.1092 - val_acc: 0.9688\n",
            "Epoch 10/20\n",
            "407/407 [==============================] - 22s 53ms/step - loss: 0.0861 - acc: 0.9740 - val_loss: 0.1007 - val_acc: 0.9672\n",
            "Epoch 11/20\n",
            "407/407 [==============================] - 22s 53ms/step - loss: 0.0733 - acc: 0.9767 - val_loss: 0.1022 - val_acc: 0.9717\n",
            "Epoch 12/20\n",
            "407/407 [==============================] - 22s 53ms/step - loss: 0.0700 - acc: 0.9795 - val_loss: 0.0844 - val_acc: 0.9792\n",
            "Epoch 13/20\n",
            "406/407 [============================>.] - ETA: 0s - loss: 0.0624 - acc: 0.9803\n",
            "Reached 98.0% accuracy so canceling training.\n",
            "407/407 [==============================] - 22s 53ms/step - loss: 0.0627 - acc: 0.9802 - val_loss: 0.1645 - val_acc: 0.9493\n"
          ]
        }
      ]
    },
    {
      "cell_type": "code",
      "source": [
        "model2.summary()"
      ],
      "metadata": {
        "id": "E27SYH2xPg6q"
      },
      "execution_count": null,
      "outputs": []
    },
    {
      "cell_type": "code",
      "source": [
        "acc = model2.history.history['acc']\n",
        "loss = model2.history.history['loss']\n",
        "val_acc = model2.history.history['val_acc']\n",
        "val_loss = model2.history.history['val_loss']\n",
        "\n",
        "# 학습과정 시각화\n",
        "epochs = range(1, len(acc) + 1)\n",
        "\n",
        "plt.plot(epochs, acc, 'b', label='Training acc')\n",
        "plt.plot(epochs, val_acc, 'g', label='Validation acc')\n",
        "plt.title('Training and validation accuracy')\n",
        "plt.legend()\n",
        "\n",
        "plt.figure()\n",
        "\n",
        "plt.plot(epochs, loss, 'y', label='Training loss')\n",
        "plt.plot(epochs, val_loss, 'r', label='Validation loss')\n",
        "plt.title('Training and validation loss')\n",
        "plt.legend()\n",
        "\n",
        "plt.show()"
      ],
      "metadata": {
        "colab": {
          "base_uri": "https://localhost:8080/",
          "height": 545
        },
        "id": "G8WM81dhAsjt",
        "outputId": "26f5667a-6d5c-4b31-cc51-610dd346465a"
      },
      "execution_count": 23,
      "outputs": [
        {
          "output_type": "display_data",
          "data": {
            "image/png": "[encoded data removed]",
            "text/plain": [
              "<Figure size 432x288 with 1 Axes>"
            ]
          },
          "metadata": {
            "needs_background": "light"
          }
        },
        {
          "output_type": "display_data",
          "data": {
            "image/png": "[encoded data removed]",
            "text/plain": [
              "<Figure size 432x288 with 1 Axes>"
            ]
          },
          "metadata": {
            "needs_background": "light"
          }
        }
      ]
    },
    {
      "cell_type": "code",
      "source": [
        "# validation test\n"
      ],
      "metadata": {
        "id": "gH55nbF9WUZ5"
      },
      "execution_count": null,
      "outputs": []
    },
    {
      "cell_type": "code",
      "source": [
        "# 모델 전체 저장하기\n",
        "model2.save('motion_model2.h5')\n",
        "# 모델 불러오기\n",
        "# new_model = keras.models.load_model('motion_model2.h5')\n",
        "# new_model.summary()"
      ],
      "metadata": {
        "id": "BSAMBv9Uz4lr"
      },
      "execution_count": 22,
      "outputs": []
    },
    {
      "cell_type": "code",
      "source": [
        "# Running the model\n",
        "from google.colab import files\n",
        "\n",
        "uploaded = files.upload()\n",
        "\n",
        "for fn in uploaded.keys():\n",
        "\n",
        "  #predicting motions\n",
        "  path = '/content/' + fn\n",
        "  motion_data = np.genfromtxt(path)\n",
        "  motion_data = motion_data[:,-6:]\n",
        "\n",
        "  org_size = motion_data.shape[0]\n",
        "  new_size = 200\n",
        "  cleaned_motion_data = motion_data[:org_size-(org_size%new_size),:].reshape((-1,200,6))\n",
        "  \n",
        "  y_prob = model2.predict(cleaned_motion_data)\n",
        "  predicted = y_prob.argmax(axis = -1)\n",
        "\n",
        "  print(f\"{fn}:\", predicted)"
      ],
      "metadata": {
        "id": "jVvH2VDH3asQ"
      },
      "execution_count": null,
      "outputs": []
    },
    {
      "cell_type": "code",
      "source": [
        ""
      ],
      "metadata": {
        "id": "4a_G3jeQWUNi"
      },
      "execution_count": null,
      "outputs": []
    }
  ]
}