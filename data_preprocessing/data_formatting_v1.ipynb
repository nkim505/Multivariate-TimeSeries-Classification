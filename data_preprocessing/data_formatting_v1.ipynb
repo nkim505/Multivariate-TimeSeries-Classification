{
  "nbformat": 4,
  "nbformat_minor": 0,
  "metadata": {
    "colab": {
      "name": "pj_sequencemodel_datapreprocessing.ipynb",
      "provenance": []
    },
    "kernelspec": {
      "name": "python3",
      "display_name": "Python 3"
    },
    "language_info": {
      "name": "python"
    }
  },
  "cells": [
    {
      "cell_type": "markdown",
      "source": [
        "# 데이터 추가 및 데이터셋 정리"
      ],
      "metadata": {
        "id": "fnR0rRDmswD1"
      }
    },
    {
      "cell_type": "code",
      "source": [
        "import os, sys\n",
        "import pandas as pd\n",
        "import numpy as np\n",
        "from numpy import loadtxt\n",
        "from collections import deque"
      ],
      "metadata": {
        "id": "Ed6LJxy-eK-O"
      },
      "execution_count": null,
      "outputs": []
    },
    {
      "cell_type": "markdown",
      "source": [
        "## 1. 추가된 앉는 모션 데이터들을 하나의 txt파일로 만들기\n",
        "* 더불어, 해당 데이터의 y 라벨링 추가함\n",
        "* [참고] 라벨링 번호 의미\n",
        "\n",
        "1.   걷기 (위로 계단오르기, 아래로 계단 오르기 모두)\n",
        "2.   서있기\n",
        "3.   눕기\n",
        "4.   앉기 (섰다가 앉기, 앉았다가 서기 모두)"
      ],
      "metadata": {
        "id": "sO25Iih6r99Y"
      }
    },
    {
      "cell_type": "code",
      "execution_count": null,
      "metadata": {
        "id": "zxrsdtTIbs6t"
      },
      "outputs": [],
      "source": [
        "# 각각의 앉기(label = 4) 파일을 하나의 txt 파일로 묶기 \n",
        "file_path = '/content/drive/MyDrive/motion_dataset/'\n",
        "sitting_path = file_path + 'sitting/'\n",
        "\n",
        "# sitting 폴더 내 모든 txt파일 이름 sitlist에 저장\n",
        "sitlist = os.listdir(sitting_path)\n",
        "sitlist = sitlist [:-1] # 마지막에 .ipynb 파일 하나가 생성되었길래 제거.\n",
        "\n",
        "# blabla_42.txt가 마지막임을 확인\n",
        "sitlist[-1]"
      ]
    },
    {
      "cell_type": "code",
      "source": [
        "# 모든 txt를 불러오면서 하나의 array로 concatenate 하기\n",
        "datalist = np.empty((1,6))  # 빈 다차원 배열 만들기 ( = [] 하면 에러남)\n",
        "for i in sitlist:\n",
        "  data = np.loadtxt(sitting_path + i)\n",
        "  datalist = np.concatenate((datalist,data))\n",
        "\n",
        "# 맨 처음 empty 행은 지워주기\n",
        "# 최종 shape이 (14858, 6)\n",
        "# 첫 행의 모양이 [ 1.92,-9.18999,-0.13999,0.51969296,1.1646136,0.24540055]\n",
        "# 이면 성공\n",
        "datalist = np.delete(datalist, (0), axis = 0)\n",
        "print(datalist.shape)\n",
        "print(datalist)"
      ],
      "metadata": {
        "colab": {
          "base_uri": "https://localhost:8080/"
        },
        "id": "fpiuYGx4eJ-_",
        "outputId": "a3928073-6c41-4a4d-aba8-e86f00084bea"
      },
      "execution_count": null,
      "outputs": [
        {
          "output_type": "stream",
          "name": "stdout",
          "text": [
            "(14858, 6)\n",
            "[[ 1.92       -9.18999    -0.13999     0.51969296  1.1646136   0.24540055]\n",
            " [ 1.93       -9.26999    -0.15999     0.5156184   1.1564646   0.15576075]\n",
            " [ 1.93       -9.34999    -0.18999     0.49932024  1.1768372   0.05389733]\n",
            " ...\n",
            " [ 7.66       -5.85999     4.51       -4.544956   -3.8226192   5.9334536 ]\n",
            " [ 7.8        -5.88999     4.48       -4.337155   -3.6107433   6.389802  ]\n",
            " [ 7.98       -5.92999     4.45       -4.324931   -2.7387924   6.952088  ]]\n"
          ]
        }
      ]
    },
    {
      "cell_type": "code",
      "source": [
        "# 앉기 데이터 x 저장\n",
        "np.savetxt(sitting_path + 'trainx_sit_all.txt', datalist, delimiter=\" \")\n",
        "\n",
        "# # 앉기 데이터 제대로 저장되었는지 다시 열어서 확인\n",
        "# # google drive에도 제대로 저장되었음 확인(2022-01-24)\n",
        "# temp = np.loadtxt(sitting_path + 'trainx_sit_all.txt', delimiter=\" \")\n",
        "# print(temp)\n",
        "# print(temp.shape)"
      ],
      "metadata": {
        "id": "Ac9gzMRKqrIo"
      },
      "execution_count": null,
      "outputs": []
    },
    {
      "cell_type": "code",
      "source": [
        "# 모든 행마다 마지막 열에 앉기 데이터임을 표시하는 label = 4 넣기\n"
      ],
      "metadata": {
        "id": "sJRd1Ncui39P"
      },
      "execution_count": null,
      "outputs": []
    },
    {
      "cell_type": "code",
      "source": [
        ""
      ],
      "metadata": {
        "id": "1KaRjKbSizmA"
      },
      "execution_count": null,
      "outputs": []
    }
  ]
}
