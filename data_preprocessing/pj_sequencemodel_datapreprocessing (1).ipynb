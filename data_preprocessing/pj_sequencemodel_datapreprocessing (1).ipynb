{
  "nbformat": 4,
  "nbformat_minor": 0,
  "metadata": {
    "colab": {
      "name": "pj_sequencemodel_datapreprocessing.ipynb",
      "provenance": [],
      "collapsed_sections": []
    },
    "kernelspec": {
      "name": "python3",
      "display_name": "Python 3"
    },
    "language_info": {
      "name": "python"
    }
  },
  "cells": [
    {
      "cell_type": "markdown",
      "source": [
        "# 데이터 추가 및 데이터셋 정리"
      ],
      "metadata": {
        "id": "fnR0rRDmswD1"
      }
    },
    {
      "cell_type": "code",
      "source": [
        "import os, sys\n",
        "import pandas as pd\n",
        "import numpy as np\n",
        "from numpy import loadtxt\n",
        "from collections import deque"
      ],
      "metadata": {
        "id": "Ed6LJxy-eK-O"
      },
      "execution_count": 4,
      "outputs": []
    },
    {
      "cell_type": "markdown",
      "source": [
        "## 1. 추가된 앉는 모션 데이터들을 하나의 txt파일로 만들기\n",
        "* 더불어, 해당 데이터의 y 라벨링 추가함\n",
        "* [참고] 라벨링 번호 의미\n",
        "\n",
        "1.   걷기 (위로 계단오르기, 아래로 계단 오르기 모두)\n",
        "2.   서있기\n",
        "3.   눕기\n",
        "4.   앉기 (섰다가 앉기, 앉았다가 서기 모두)"
      ],
      "metadata": {
        "id": "sO25Iih6r99Y"
      }
    },
    {
      "cell_type": "code",
      "execution_count": 18,
      "metadata": {
        "id": "zxrsdtTIbs6t",
        "colab": {
          "base_uri": "https://localhost:8080/",
          "height": 35
        },
        "outputId": "6c7f7fe8-5ecc-4571-b7ce-62075a1fd7c0"
      },
      "outputs": [
        {
          "output_type": "execute_result",
          "data": {
            "application/vnd.google.colaboratory.intrinsic+json": {
              "type": "string"
            },
            "text/plain": [
              "'trainx_sit_all.txt'"
            ]
          },
          "metadata": {},
          "execution_count": 18
        }
      ],
      "source": [
        "# 각각의 앉기(label = 4) 파일을 하나의 txt 파일로 묶기 \n",
        "file_path = '/content/drive/MyDrive/motion_dataset/'\n",
        "sitting_path = file_path + 'sitting/'\n",
        "\n",
        "# sitting 폴더 내 모든 txt파일 이름 sitlist에 저장\n",
        "sitlist = os.listdir(sitting_path)\n",
        "sitlist = sitlist [:-1] # 마지막에 .ipynb 파일 하나가 생성되었길래 제거.\n",
        "\n",
        "# blabla_42.txt가 마지막임을 확인\n",
        "sitlist[-1]"
      ]
    },
    {
      "cell_type": "code",
      "source": [
        "# 모든 txt를 불러오면서 하나의 array로 concatenate 하기\n",
        "datalist = np.empty((1,6))  # 빈 다차원 배열 만들기 ( = [] 하면 에러남)\n",
        "for i in sitlist:\n",
        "  data = np.loadtxt(sitting_path + i)\n",
        "  datalist = np.concatenate((datalist,data))\n",
        "\n",
        "# 맨 처음 empty 행은 지워주기\n",
        "# 최종 shape이 (14858, 6)\n",
        "# 첫 행의 모양이 [ 1.92,-9.18999,-0.13999,0.51969296,1.1646136,0.24540055]\n",
        "# 이면 성공\n",
        "datalist = np.delete(datalist, (0), axis = 0)\n",
        "print(datalist.shape)\n",
        "print(datalist)"
      ],
      "metadata": {
        "id": "fpiuYGx4eJ-_"
      },
      "execution_count": null,
      "outputs": []
    },
    {
      "cell_type": "code",
      "source": [
        "# 앉기 데이터 x 저장\n",
        "np.savetxt(sitting_path + 'trainx_sit_all.txt', datalist, delimiter=\" \")\n",
        "\n",
        "# # 앉기 데이터 제대로 저장되었는지 다시 열어서 확인\n",
        "# # google drive에도 제대로 저장되었음 확인(2022-01-24)\n",
        "# temp = np.loadtxt(sitting_path + 'trainx_sit_all.txt', delimiter=\" \")\n",
        "# print(temp)\n",
        "# print(temp.shape)"
      ],
      "metadata": {
        "id": "Ac9gzMRKqrIo"
      },
      "execution_count": null,
      "outputs": []
    },
    {
      "cell_type": "code",
      "source": [
        "# 모든 행마다 마지막 열에 앉기 데이터임을 표시하는 label = 4 넣기\n",
        "datalist = np.loadtxt(sitting_path + 'trainx_sit_all.txt', delimiter=\" \")\n",
        "temp = np.full((14858,1), 4, dtype='int')\n",
        "datalist = np.append(datalist, temp, axis = 1)\n",
        "print(datalist.shape)\n",
        "print(datalist)"
      ],
      "metadata": {
        "id": "sJRd1Ncui39P",
        "colab": {
          "base_uri": "https://localhost:8080/"
        },
        "outputId": "06b65f20-13cb-4838-a5b2-d65fd38981c6"
      },
      "execution_count": 23,
      "outputs": [
        {
          "output_type": "stream",
          "name": "stdout",
          "text": [
            "(14858, 7)\n",
            "[[ 1.92       -9.18999    -0.13999    ...  1.1646136   0.24540055\n",
            "   4.        ]\n",
            " [ 1.93       -9.26999    -0.15999    ...  1.1564646   0.15576075\n",
            "   4.        ]\n",
            " [ 1.93       -9.34999    -0.18999    ...  1.1768372   0.05389733\n",
            "   4.        ]\n",
            " ...\n",
            " [ 7.66       -5.85999     4.51       ... -3.8226192   5.9334536\n",
            "   4.        ]\n",
            " [ 7.8        -5.88999     4.48       ... -3.6107433   6.389802\n",
            "   4.        ]\n",
            " [ 7.98       -5.92999     4.45       ... -2.7387924   6.952088\n",
            "   4.        ]]\n"
          ]
        }
      ]
    },
    {
      "cell_type": "code",
      "source": [
        "# 저장하기\n",
        "np.savetxt(sitting_path+'train_sit_xy.txt',datalist, delimiter=\" \")"
      ],
      "metadata": {
        "id": "UzMuFgT-Veiv"
      },
      "execution_count": 11,
      "outputs": []
    },
    {
      "cell_type": "markdown",
      "source": [
        "## 2. 기존 x 데이터 옆으로 y 열 넣기\n",
        "* 기존 데이터 2차원으로 변경 + 라벨 열column 추가"
      ],
      "metadata": {
        "id": "4Yu6ES72bs79"
      }
    },
    {
      "cell_type": "code",
      "source": [
        "# 기존 raw 데이터 열기\n",
        "train_path = file_path + 'train_dataset/'\n",
        "accx = np.loadtxt(train_path+'acc_X.txt')\n",
        "accy = np.loadtxt(train_path+'acc_Y.txt')\n",
        "accz = np.loadtxt(train_path+'acc_Z.txt')\n",
        "gyrox = np.loadtxt(train_path+'gyro_X.txt')\n",
        "gyroy = np.loadtxt(train_path+'gyro_Y.txt')\n",
        "gyroz = np.loadtxt(train_path+'gyro_Z.txt')\n",
        "answers = np.loadtxt(train_path+'Answer.txt')"
      ],
      "metadata": {
        "id": "1KaRjKbSizmA"
      },
      "execution_count": 12,
      "outputs": []
    },
    {
      "cell_type": "code",
      "source": [
        "# 기존 raw 데이터들 -> 하나의 다중배열로 병합\n",
        "my_data = [accx, accy, accz, gyrox, gyroy, gyroz]\n",
        "my_data = map(np.ravel, my_data)\n",
        "dataset = np.column_stack(my_data)\n",
        "print(dataset.shape) #(3703200, 6)\n",
        "print(answers.shape) #(18516,)<- dataset이 (18516, 200, 6) 3차원 배열일 때로 맞춰서 만들어진 answers"
      ],
      "metadata": {
        "colab": {
          "base_uri": "https://localhost:8080/"
        },
        "id": "1I1XJVUUgAn4",
        "outputId": "596ea49d-e556-4572-e589-89ae9cb4e337"
      },
      "execution_count": 13,
      "outputs": [
        {
          "output_type": "stream",
          "name": "stdout",
          "text": [
            "(3703200, 6)\n",
            "(18516,)\n"
          ]
        },
        {
          "output_type": "stream",
          "name": "stderr",
          "text": [
            "/usr/local/lib/python3.7/dist-packages/ipykernel_launcher.py:3: FutureWarning: arrays to stack must be passed as a \"sequence\" type such as list or tuple. Support for non-sequence iterables such as generators is deprecated as of NumPy 1.16 and will raise an error in the future.\n",
            "  This is separate from the ipykernel package so we can avoid doing imports until\n"
          ]
        }
      ]
    },
    {
      "cell_type": "code",
      "source": [
        "# answers 길이 3703200으로 변경\n",
        "new_answers=np.array([elem for elem in answers for j in range(200)], dtype='int')\n",
        "new_answers=new_answers.reshape((-1,1)) # More simpler way with python syntax sugar \n",
        "print(new_answers.shape)\n",
        "print(new_answers)\n",
        "\n",
        "# 작은 예제로 확인\n",
        "# y=[1,2,3,4]\n",
        "# b=np.array([elem for elem in y  for j in range(5)])\n",
        "# b # array([1, 1, 1, 1, 1, 2, 2, 2, 2, 2, 3, 3, 3, 3, 3, 4, 4, 4, 4, 4])\n",
        "\n",
        "# 또 다른 방법\n",
        "# b = np.array([[i]*200 for i in y]).flatten()"
      ],
      "metadata": {
        "colab": {
          "base_uri": "https://localhost:8080/"
        },
        "id": "wsoPaMtJgjbC",
        "outputId": "ce23cdb0-6752-4dfd-a458-ed782fc8c380"
      },
      "execution_count": 27,
      "outputs": [
        {
          "output_type": "stream",
          "name": "stdout",
          "text": [
            "(3703200, 1)\n",
            "[[1]\n",
            " [1]\n",
            " [1]\n",
            " ...\n",
            " [1]\n",
            " [1]\n",
            " [1]]\n"
          ]
        }
      ]
    },
    {
      "cell_type": "code",
      "source": [
        "#기존 데이터 묶음 dataset의 새로운 열로 new_asnwers 붙이기\n",
        "dataset = np.append(dataset, new_answers, axis = 1)\n",
        "dataset"
      ],
      "metadata": {
        "colab": {
          "base_uri": "https://localhost:8080/"
        },
        "id": "aBXaaT1Up23D",
        "outputId": "e8139c72-243a-48cd-c6c0-0aa84de9c88b"
      },
      "execution_count": 28,
      "outputs": [
        {
          "output_type": "execute_result",
          "data": {
            "text/plain": [
              "array([[  2.35      , -11.24999   ,  -0.05999   , ...,  -3.8429918 ,\n",
              "          2.6371534 ,   1.        ],\n",
              "       [  2.56      , -11.60999   ,  -0.10999   , ...,  -3.1503205 ,\n",
              "          2.2663705 ,   1.        ],\n",
              "       [  2.64      , -11.71999   ,  -0.11999   , ...,  -2.865103  ,\n",
              "          2.2134016 ,   1.        ],\n",
              "       ...,\n",
              "       [ 11.22      ,   3.03      ,  -3.53999   , ...,  -2.3394878 ,\n",
              "          0.29022044,   1.        ],\n",
              "       [ 11.65      ,   3.13      ,  -3.90999   , ...,  -2.1683574 ,\n",
              "          0.35948756,   1.        ],\n",
              "       [ 12.04      ,   3.18      ,  -4.23999   , ...,  -1.9279597 ,\n",
              "          0.35948756,   1.        ]])"
            ]
          },
          "metadata": {},
          "execution_count": 28
        }
      ]
    },
    {
      "cell_type": "markdown",
      "source": [
        "## 3. 기존 데이터셋과 앉기 데이터셋 결합\n",
        "* 위의 'dataset'과, 1.에서 작업한 앉기 데이터 'datalist'('train_sit_xy.txt')를 행 방향으로 병합"
      ],
      "metadata": {
        "id": "MUmgpe4btXAE"
      }
    },
    {
      "cell_type": "code",
      "source": [
        "finalset = np.concatenate((dataset, datalist), axis = 0)\n",
        "print(finalset.shape) #기존데이터(3703200,7) + 새 데이터(14858,7) = (3718058,7)\n",
        "print(finalset)"
      ],
      "metadata": {
        "colab": {
          "base_uri": "https://localhost:8080/"
        },
        "id": "mzu9fBmNrsOx",
        "outputId": "7cb565df-1ccf-4eeb-8062-0507e46a95eb"
      },
      "execution_count": 29,
      "outputs": [
        {
          "output_type": "stream",
          "name": "stdout",
          "text": [
            "(3718058, 7)\n",
            "[[  2.35      -11.24999    -0.05999   ...  -3.8429918   2.6371534\n",
            "    1.       ]\n",
            " [  2.56      -11.60999    -0.10999   ...  -3.1503205   2.2663705\n",
            "    1.       ]\n",
            " [  2.64      -11.71999    -0.11999   ...  -2.865103    2.2134016\n",
            "    1.       ]\n",
            " ...\n",
            " [  7.66       -5.85999     4.51      ...  -3.8226192   5.9334536\n",
            "    4.       ]\n",
            " [  7.8        -5.88999     4.48      ...  -3.6107433   6.389802\n",
            "    4.       ]\n",
            " [  7.98       -5.92999     4.45      ...  -2.7387924   6.952088\n",
            "    4.       ]]\n"
          ]
        }
      ]
    },
    {
      "cell_type": "code",
      "source": [
        "#저장\n",
        "np.savetxt(train_path+'dataset_withlabels.txt', finalset, delimiter=\" \")\n",
        "os.listdir(train_path)"
      ],
      "metadata": {
        "colab": {
          "base_uri": "https://localhost:8080/"
        },
        "id": "moS6AwKxt8vp",
        "outputId": "b5ae127e-6d4e-48df-8c56-a9482fc1220e"
      },
      "execution_count": 33,
      "outputs": [
        {
          "output_type": "execute_result",
          "data": {
            "text/plain": [
              "['Answer.txt',\n",
              " 'acc_X.txt',\n",
              " 'gyro_X.txt',\n",
              " 'gyro_Z.txt',\n",
              " 'gyro_Y.txt',\n",
              " 'acc_Y.txt',\n",
              " 'acc_Z.txt',\n",
              " 'dataset_withlabels.txt']"
            ]
          },
          "metadata": {},
          "execution_count": 33
        }
      ]
    }
  ]
}